{
  "nbformat": 4,
  "nbformat_minor": 0,
  "metadata": {
    "colab": {
      "provenance": [],
      "authorship_tag": "ABX9TyNZjj6641Q9jHD9tYeeGok6",
      "include_colab_link": true
    },
    "kernelspec": {
      "name": "python3",
      "display_name": "Python 3"
    },
    "language_info": {
      "name": "python"
    }
  },
  "cells": [
    {
      "cell_type": "markdown",
      "metadata": {
        "id": "view-in-github",
        "colab_type": "text"
      },
      "source": [
        "<a href=\"https://colab.research.google.com/github/TejashwiniDonoju/EDUNET/blob/main/Temperature_efficiency.ipynb\" target=\"_parent\"><img src=\"https://colab.research.google.com/assets/colab-badge.svg\" alt=\"Open In Colab\"/></a>"
      ]
    },
    {
      "cell_type": "markdown",
      "source": [
        "### **Import Libraries**"
      ],
      "metadata": {
        "id": "0lxRnTIODawl"
      }
    },
    {
      "cell_type": "code",
      "execution_count": null,
      "metadata": {
        "id": "HYtzUb5jBFgT"
      },
      "outputs": [],
      "source": [
        "import pandas as pd\n",
        "import matplotlib.pyplot as plt\n",
        "import seaborn as sns\n",
        "from sklearn.cluster import KMeans\n"
      ]
    },
    {
      "cell_type": "markdown",
      "source": [
        "### **Load Data**"
      ],
      "metadata": {
        "id": "wQQBaxqDDh_-"
      }
    },
    {
      "cell_type": "code",
      "source": [
        "\n",
        "df_proj = pd.read_csv(\"/content/sample_data/Projected annual temperature change (2045-2065 Celsius) - Data.csv\")\n",
        "\n",
        "print(df_proj.shape)\n",
        "print(df_proj.head())\n"
      ],
      "metadata": {
        "colab": {
          "base_uri": "https://localhost:8080/"
        },
        "id": "QSp-FBEyBOBo",
        "outputId": "d43d55eb-3180-45fb-f270-1757e9f5ca8d"
      },
      "execution_count": null,
      "outputs": [
        {
          "output_type": "stream",
          "name": "stdout",
          "text": [
            "(13512, 28)\n",
            "  Country code Country name     Series code  \\\n",
            "0          ABW        Aruba  AG.LND.EL5M.ZS   \n",
            "1          ADO      Andorra  AG.LND.EL5M.ZS   \n",
            "2          AFG  Afghanistan  AG.LND.EL5M.ZS   \n",
            "3          AGO       Angola  AG.LND.EL5M.ZS   \n",
            "4          ALB      Albania  AG.LND.EL5M.ZS   \n",
            "\n",
            "                           Series name SCALE Decimals   1990 1991 1992 1993  \\\n",
            "0  Land area below 5m (% of land area)     0        1  29.57   ..   ..   ..   \n",
            "1  Land area below 5m (% of land area)     0        1   0.00   ..   ..   ..   \n",
            "2  Land area below 5m (% of land area)     0        1   0.00   ..   ..   ..   \n",
            "3  Land area below 5m (% of land area)     0        1   0.21   ..   ..   ..   \n",
            "4  Land area below 5m (% of land area)     0        1   4.97   ..   ..   ..   \n",
            "\n",
            "   ... 2002 2003 2004 2005 2006 2007 2008 2009 2010 2011  \n",
            "0  ...   ..   ..   ..   ..   ..   ..   ..   ..   ..   ..  \n",
            "1  ...   ..   ..   ..   ..   ..   ..   ..   ..   ..   ..  \n",
            "2  ...   ..   ..   ..   ..   ..   ..   ..   ..   ..   ..  \n",
            "3  ...   ..   ..   ..   ..   ..   ..   ..   ..   ..   ..  \n",
            "4  ...   ..   ..   ..   ..   ..   ..   ..   ..   ..   ..  \n",
            "\n",
            "[5 rows x 28 columns]\n"
          ]
        }
      ]
    },
    {
      "cell_type": "markdown",
      "source": [
        "### **Data Cleaning & Preparation**"
      ],
      "metadata": {
        "id": "KMIlbqk8DULl"
      }
    },
    {
      "cell_type": "code",
      "source": [
        "import pandas as pd\n",
        "import numpy as np\n",
        "\n",
        "df = pd.read_csv(\"/content/sample_data/Projected annual temperature change (2045-2065 Celsius) - Data.csv\")\n",
        "\n",
        "df = df.replace(\"..\", np.nan)\n",
        "\n",
        "year_cols = [col for col in df.columns if col.isdigit()]\n",
        "df[year_cols] = df[year_cols].apply(pd.to_numeric, errors='coerce')\n",
        "\n",
        "df[\"feature_mean\"] = df[year_cols].mean(axis=1)\n",
        "\n",
        "df_clean = df[[\"Country name\", \"Series name\", \"feature_mean\"]]\n",
        "\n",
        "print(df_clean.head())\n",
        "print(df_clean.shape)\n"
      ],
      "metadata": {
        "colab": {
          "base_uri": "https://localhost:8080/"
        },
        "id": "ppayx99XBube",
        "outputId": "011429a1-8f14-4c2a-d7a7-f7e98f5eb35e"
      },
      "execution_count": null,
      "outputs": [
        {
          "output_type": "stream",
          "name": "stdout",
          "text": [
            "  Country name                          Series name  feature_mean\n",
            "0        Aruba  Land area below 5m (% of land area)         29.57\n",
            "1      Andorra  Land area below 5m (% of land area)          0.00\n",
            "2  Afghanistan  Land area below 5m (% of land area)          0.00\n",
            "3       Angola  Land area below 5m (% of land area)          0.21\n",
            "4      Albania  Land area below 5m (% of land area)          4.97\n",
            "(13512, 3)\n"
          ]
        }
      ]
    },
    {
      "cell_type": "markdown",
      "source": [
        "### **Pivot table**"
      ],
      "metadata": {
        "id": "91Q7V8j0DDwX"
      }
    },
    {
      "cell_type": "code",
      "source": [
        "# Pivot table: rows = countries, columns = indicators (Series name)\n",
        "df_pivot = df_clean.pivot_table(\n",
        "    index=\"Country name\",\n",
        "    columns=\"Series name\",\n",
        "    values=\"feature_mean\"\n",
        ")\n",
        "\n",
        "# Reset index to make 'Country name' a column again\n",
        "df_pivot = df_pivot.reset_index()\n",
        "\n",
        "print(df_pivot.shape)\n",
        "print(df_pivot.head())\n",
        "\n"
      ],
      "metadata": {
        "colab": {
          "base_uri": "https://localhost:8080/"
        },
        "id": "MSdLU492CFrX",
        "outputId": "dde08160-0274-46a6-9190-4a7c674e4f7d"
      },
      "execution_count": null,
      "outputs": [
        {
          "output_type": "stream",
          "name": "stdout",
          "text": [
            "(233, 49)\n",
            "Series name    Country name  Access to electricity (% of total population)  \\\n",
            "0               Afghanistan                                           15.6   \n",
            "1                   Albania                                            NaN   \n",
            "2                   Algeria                                           99.3   \n",
            "3            American Samoa                                            NaN   \n",
            "4                   Andorra                                            NaN   \n",
            "\n",
            "Series name  Access to improved sanitation (% of total pop.)  \\\n",
            "0                                                      33.25   \n",
            "1                                                      92.75   \n",
            "2                                                      91.80   \n",
            "3                                                        NaN   \n",
            "4                                                     100.00   \n",
            "\n",
            "Series name  Access to improved water source (% of total pop.)  \\\n",
            "0                                                        28.25   \n",
            "1                                                        96.75   \n",
            "2                                                        88.80   \n",
            "3                                                          NaN   \n",
            "4                                                       100.00   \n",
            "\n",
            "Series name  Agricultural land under irrigation (% of total ag. land)  \\\n",
            "0                                                     5.726667          \n",
            "1                                                    14.733333          \n",
            "2                                                     2.005000          \n",
            "3                                                          NaN          \n",
            "4                                                          NaN          \n",
            "\n",
            "Series name  Annual freshwater withdrawals (% of internal resources)  \\\n",
            "0                                                       42.040         \n",
            "1                                                        5.645         \n",
            "2                                                       54.610         \n",
            "3                                                          NaN         \n",
            "4                                                          NaN         \n",
            "\n",
            "Series name  Average annual precipitation (1961-1990, mm)  \\\n",
            "0                                                   327.0   \n",
            "1                                                   996.0   \n",
            "2                                                    89.0   \n",
            "3                                                     NaN   \n",
            "4                                                   973.0   \n",
            "\n",
            "Series name  CO2 emissions per capita (metric tons)  \\\n",
            "0                                          0.046842   \n",
            "1                                          1.070526   \n",
            "2                                          3.109474   \n",
            "3                                               NaN   \n",
            "4                                          7.244286   \n",
            "\n",
            "Series name  CO2 emissions per units of GDP (kg/$1,000 of 2005 PPP $)  \\\n",
            "0                                                    29.340000          \n",
            "1                                                   239.372632          \n",
            "2                                                   497.988421          \n",
            "3                                                          NaN          \n",
            "4                                                          NaN          \n",
            "\n",
            "Series name  CO2 emissions, total (KtCO2)  ...  \\\n",
            "0                             1092.766316  ...   \n",
            "1                             3384.640526  ...   \n",
            "2                            93351.399474  ...   \n",
            "3                                     NaN  ...   \n",
            "4                              512.070714  ...   \n",
            "\n",
            "Series name  Population below 5m (% of total)  Population growth (annual %)  \\\n",
            "0                                       0.000                      2.961014   \n",
            "1                                       7.805                     -0.076121   \n",
            "2                                       3.465                      1.730064   \n",
            "3                                      10.360                      1.933460   \n",
            "4                                       0.000                      2.403266   \n",
            "\n",
            "Series name  Population in urban agglomerations >1million (%)  \\\n",
            "0                                                    8.461429   \n",
            "1                                                         NaN   \n",
            "2                                                    7.423810   \n",
            "3                                                         NaN   \n",
            "4                                                         NaN   \n",
            "\n",
            "Series name  Population living below $1.25 a day (% of total)  \\\n",
            "0                                                         NaN   \n",
            "1                                                       0.554   \n",
            "2                                                       6.790   \n",
            "3                                                         NaN   \n",
            "4                                                         NaN   \n",
            "\n",
            "Series name  Primary completion rate, total (% of relevant age group)  \\\n",
            "0                                                    33.665000          \n",
            "1                                                    97.452500          \n",
            "2                                                    87.917222          \n",
            "3                                                          NaN          \n",
            "4                                                   101.523333          \n",
            "\n",
            "Series name  Public sector mgmt & institutions avg. (1-6 scale; 6=best)  \\\n",
            "0                                                          2.3            \n",
            "1                                                          3.3            \n",
            "2                                                          NaN            \n",
            "3                                                          NaN            \n",
            "4                                                          NaN            \n",
            "\n",
            "Series name  Ratio of girls to boys in primary & secondary school (%)  \\\n",
            "0                                                    47.353333          \n",
            "1                                                    97.327273          \n",
            "2                                                    91.134615          \n",
            "3                                                   102.760000          \n",
            "4                                                   102.756250          \n",
            "\n",
            "Series name  Under-five mortality rate (per 1,000)  Urban population  \\\n",
            "0                                       159.761905      5.702868e+06   \n",
            "1                                        29.057143      1.321950e+06   \n",
            "2                                        49.871429      1.832056e+07   \n",
            "3                                              NaN      5.114336e+04   \n",
            "4                                         5.380952      6.328043e+04   \n",
            "\n",
            "Series name  Urban population growth (annual %)  \n",
            "0                                      4.432670  \n",
            "1                                      1.275417  \n",
            "2                                      2.966591  \n",
            "3                                      2.633282  \n",
            "4                                      2.047963  \n",
            "\n",
            "[5 rows x 49 columns]\n"
          ]
        }
      ]
    },
    {
      "cell_type": "markdown",
      "source": [
        "### **Fill missing values**"
      ],
      "metadata": {
        "id": "tvTTh7y9Czbv"
      }
    },
    {
      "cell_type": "code",
      "source": [
        "df_pivot_filled = df_pivot.fillna(df_pivot.mean(numeric_only=True))\n",
        "\n",
        "print(df_pivot_filled.shape)\n",
        "print(df_pivot_filled.isna().sum().sum(), \"missing values remain\")\n"
      ],
      "metadata": {
        "colab": {
          "base_uri": "https://localhost:8080/"
        },
        "id": "r1rBhyuMCPuU",
        "outputId": "33c97517-091f-4f2d-89a5-0606bb4705db"
      },
      "execution_count": null,
      "outputs": [
        {
          "output_type": "stream",
          "name": "stdout",
          "text": [
            "(233, 49)\n",
            "0 missing values remain\n"
          ]
        }
      ]
    },
    {
      "cell_type": "markdown",
      "source": [
        "### **Applying KMeans**"
      ],
      "metadata": {
        "id": "p0Kp1v_1C42w"
      }
    },
    {
      "cell_type": "code",
      "source": [
        "from sklearn.cluster import KMeans\n",
        "from sklearn.preprocessing import StandardScaler\n",
        "\n",
        "X = df_pivot_filled.drop(columns=[\"Country name\"])\n",
        "\n",
        "scaler = StandardScaler()\n",
        "X_scaled = scaler.fit_transform(X)\n",
        "\n",
        "kmeans = KMeans(n_clusters=4, random_state=42, n_init=10)\n",
        "df_pivot_filled[\"Cluster\"] = kmeans.fit_predict(X_scaled)\n",
        "\n",
        "print(df_pivot_filled[[\"Country name\", \"Cluster\"]].head(10))\n"
      ],
      "metadata": {
        "colab": {
          "base_uri": "https://localhost:8080/"
        },
        "id": "jPqbzhDmCReB",
        "outputId": "c6af75e4-e25e-469a-e92a-314c2148d270"
      },
      "execution_count": null,
      "outputs": [
        {
          "output_type": "stream",
          "name": "stdout",
          "text": [
            "Series name         Country name  Cluster\n",
            "0                    Afghanistan        3\n",
            "1                        Albania        1\n",
            "2                        Algeria        1\n",
            "3                 American Samoa        1\n",
            "4                        Andorra        1\n",
            "5                         Angola        3\n",
            "6            Antigua and Barbuda        1\n",
            "7                      Argentina        1\n",
            "8                        Armenia        1\n",
            "9                          Aruba        1\n"
          ]
        }
      ]
    },
    {
      "cell_type": "markdown",
      "source": [
        "### **Visualization**"
      ],
      "metadata": {
        "id": "TB2SaKH7C9Pd"
      }
    },
    {
      "cell_type": "code",
      "source": [
        "import matplotlib.pyplot as plt\n",
        "from sklearn.decomposition import PCA\n",
        "\n",
        "pca = PCA(n_components=2)\n",
        "X_pca = pca.fit_transform(X_scaled)\n",
        "\n",
        "plt.figure(figsize=(10,6))\n",
        "plt.scatter(X_pca[:,0], X_pca[:,1], c=df_pivot_filled[\"Cluster\"], cmap=\"viridis\", alpha=0.7)\n",
        "plt.colorbar(label=\"Cluster\")\n",
        "plt.xlabel(\"PCA 1\")\n",
        "plt.ylabel(\"PCA 2\")\n",
        "plt.title(\"Country Clusters on Sustainable Energy & Efficiency\")\n",
        "plt.show()\n"
      ],
      "metadata": {
        "colab": {
          "base_uri": "https://localhost:8080/",
          "height": 564
        },
        "id": "8F5eXsGRCmF8",
        "outputId": "0c999a0d-25a2-45ae-d4d1-9d21dcf6f9d9"
      },
      "execution_count": null,
      "outputs": [
        {
          "output_type": "display_data",
          "data": {
            "text/plain": [
              "<Figure size 1000x600 with 2 Axes>"
            ],
            "image/png": "[encoded data removed]"
          },
          "metadata": {}
        }
      ]
    },
    {
      "cell_type": "markdown",
      "source": [
        "### **Cluster Counts**"
      ],
      "metadata": {
        "id": "DhznupAwFxUC"
      }
    },
    {
      "cell_type": "code",
      "source": [
        "cluster_counts = df_pivot_filled[\"Cluster\"].value_counts().sort_index()\n",
        "print(\"Cluster counts:\")\n",
        "print(cluster_counts)\n"
      ],
      "metadata": {
        "colab": {
          "base_uri": "https://localhost:8080/"
        },
        "id": "6MfI9wNkFvj0",
        "outputId": "b2654e67-d87e-4558-eba6-7c95bbb96021"
      },
      "execution_count": null,
      "outputs": [
        {
          "output_type": "stream",
          "name": "stdout",
          "text": [
            "Cluster counts:\n",
            "Cluster\n",
            "0     41\n",
            "1    128\n",
            "2      5\n",
            "3     59\n",
            "Name: count, dtype: int64\n"
          ]
        }
      ]
    },
    {
      "cell_type": "markdown",
      "source": [
        "### **Sample**"
      ],
      "metadata": {
        "id": "JDV2DOSPF4yr"
      }
    },
    {
      "cell_type": "code",
      "source": [
        "cluster_counts = df_pivot_filled[\"Cluster\"].value_counts().sort_index()\n",
        "print(\"Cluster counts:\")\n",
        "print(cluster_counts)\n",
        "\n",
        "for c in sorted(df_pivot_filled[\"Cluster\"].unique()):\n",
        "    print(f\"\\nCluster {c} sample countries:\")\n",
        "    print(df_pivot_filled[df_pivot_filled[\"Cluster\"] == c][\"Country name\"].head(5).to_list())\n"
      ],
      "metadata": {
        "colab": {
          "base_uri": "https://localhost:8080/"
        },
        "id": "pxcSCk7KF62A",
        "outputId": "7198a7ce-f543-45e1-b117-3dad39d23f73"
      },
      "execution_count": null,
      "outputs": [
        {
          "output_type": "stream",
          "name": "stdout",
          "text": [
            "\n",
            "Cluster 0 sample countries:\n",
            "['Australia', 'Austria', 'Bahrain', 'Belgium', 'Brunei Darussalam']\n",
            "\n",
            "Cluster 1 sample countries:\n",
            "['Albania', 'Algeria', 'American Samoa', 'Andorra', 'Antigua and Barbuda']\n",
            "\n",
            "Cluster 2 sample countries:\n",
            "['High income', 'Low & middle income', 'Middle income', 'Upper middle income', 'World']\n",
            "\n",
            "Cluster 3 sample countries:\n",
            "['Afghanistan', 'Angola', 'Bangladesh', 'Benin', 'Burkina Faso']\n"
          ]
        }
      ]
    },
    {
      "cell_type": "markdown",
      "source": [
        "### **Summary table**"
      ],
      "metadata": {
        "id": "ZafqFv97GAF1"
      }
    },
    {
      "cell_type": "code",
      "source": [
        "cluster_counts = df_pivot_filled[\"Cluster\"].value_counts().sort_index()\n",
        "print(\"Cluster counts:\")\n",
        "print(cluster_counts)\n",
        "\n",
        "for c in sorted(df_pivot_filled[\"Cluster\"].unique()):\n",
        "    print(f\"\\nCluster {c} sample countries:\")\n",
        "    print(df_pivot_filled[df_pivot_filled[\"Cluster\"] == c][\"Country name\"].head(5).to_list())\n",
        "\n",
        "numeric_cols = df_pivot_filled.drop(columns=[\"Country name\", \"Cluster\"]).columns\n",
        "\n",
        "cluster_means = df_pivot_filled.groupby(\"Cluster\")[numeric_cols].mean().round(2)\n",
        "print(\"\\nCluster averages (summary table):\")\n",
        "print(cluster_means)\n"
      ],
      "metadata": {
        "colab": {
          "base_uri": "https://localhost:8080/"
        },
        "id": "MFKRC0SCGCY1",
        "outputId": "d6f0e70c-53c6-459b-94f9-adbd5393747a"
      },
      "execution_count": null,
      "outputs": [
        {
          "output_type": "stream",
          "name": "stdout",
          "text": [
            "\n",
            "Cluster averages (summary table):\n",
            "Series name  Access to electricity (% of total population)  \\\n",
            "Cluster                                                      \n",
            "0                                                    73.94   \n",
            "1                                                    74.69   \n",
            "2                                                    78.84   \n",
            "3                                                    43.52   \n",
            "\n",
            "Series name  Access to improved sanitation (% of total pop.)  \\\n",
            "Cluster                                                        \n",
            "0                                                      94.08   \n",
            "1                                                      78.15   \n",
            "2                                                      63.92   \n",
            "3                                                      30.16   \n",
            "\n",
            "Series name  Access to improved water source (% of total pop.)  \\\n",
            "Cluster                                                          \n",
            "0                                                        97.52   \n",
            "1                                                        88.89   \n",
            "2                                                        85.34   \n",
            "3                                                        60.35   \n",
            "\n",
            "Series name  Agricultural land under irrigation (% of total ag. land)  \\\n",
            "Cluster                                                                 \n",
            "0                                                        10.81          \n",
            "1                                                         8.78          \n",
            "2                                                         9.81          \n",
            "3                                                        11.37          \n",
            "\n",
            "Series name  Annual freshwater withdrawals (% of internal resources)  \\\n",
            "Cluster                                                                \n",
            "0                                                       252.03         \n",
            "1                                                       109.15         \n",
            "2                                                         8.46         \n",
            "3                                                        29.79         \n",
            "\n",
            "Series name  Average annual precipitation (1961-1990, mm)  \\\n",
            "Cluster                                                     \n",
            "0                                                 1003.58   \n",
            "1                                                 1413.95   \n",
            "2                                                 1283.88   \n",
            "3                                                 1196.46   \n",
            "\n",
            "Series name  CO2 emissions per capita (metric tons)  \\\n",
            "Cluster                                               \n",
            "0                                             12.50   \n",
            "1                                              4.18   \n",
            "2                                              5.08   \n",
            "3                                              0.51   \n",
            "\n",
            "Series name  CO2 emissions per units of GDP (kg/$1,000 of 2005 PPP $)  \\\n",
            "Cluster                                                                 \n",
            "0                                                       459.71          \n",
            "1                                                       541.98          \n",
            "2                                                       633.78          \n",
            "3                                                       249.11          \n",
            "\n",
            "Series name  CO2 emissions, total (KtCO2)  Cereal yield (kg per hectare)  ...  \\\n",
            "Cluster                                                                   ...   \n",
            "0                               390220.59                        4339.09  ...   \n",
            "1                               218706.45                        2579.50  ...   \n",
            "2                             14086415.72                        3273.49  ...   \n",
            "3                               115112.71                        1445.89  ...   \n",
            "\n",
            "Series name  Population below 5m (% of total)  Population growth (annual %)  \\\n",
            "Cluster                                                                       \n",
            "0                                       12.99                          1.27   \n",
            "1                                       17.54                          1.14   \n",
            "2                                        6.71                          1.16   \n",
            "3                                        4.53                          2.42   \n",
            "\n",
            "Series name  Population in urban agglomerations >1million (%)  \\\n",
            "Cluster                                                         \n",
            "0                                                       31.44   \n",
            "1                                                       22.48   \n",
            "2                                                       18.25   \n",
            "3                                                       16.74   \n",
            "\n",
            "Series name  Population living below $1.25 a day (% of total)  \\\n",
            "Cluster                                                         \n",
            "0                                                       23.87   \n",
            "1                                                       17.45   \n",
            "2                                                       27.88   \n",
            "3                                                       47.16   \n",
            "\n",
            "Series name  Primary completion rate, total (% of relevant age group)  \\\n",
            "Cluster                                                                 \n",
            "0                                                        96.60          \n",
            "1                                                        91.86          \n",
            "2                                                        90.06          \n",
            "3                                                        55.11          \n",
            "\n",
            "Series name  Public sector mgmt & institutions avg. (1-6 scale; 6=best)  \\\n",
            "Cluster                                                                   \n",
            "0                                                         3.09            \n",
            "1                                                         3.16            \n",
            "2                                                         3.09            \n",
            "3                                                         2.94            \n",
            "\n",
            "Series name  Ratio of girls to boys in primary & secondary school (%)  \\\n",
            "Cluster                                                                 \n",
            "0                                                       100.67          \n",
            "1                                                        99.26          \n",
            "2                                                        96.01          \n",
            "3                                                        81.41          \n",
            "\n",
            "Series name  Under-five mortality rate (per 1,000)  Urban population  \\\n",
            "Cluster                                                                \n",
            "0                                             9.55      2.330982e+07   \n",
            "1                                            37.68      2.931905e+07   \n",
            "2                                            53.29      1.746687e+09   \n",
            "3                                           132.04      3.562731e+07   \n",
            "\n",
            "Series name  Urban population growth (annual %)  \n",
            "Cluster                                          \n",
            "0                                          1.50  \n",
            "1                                          1.77  \n",
            "2                                          2.15  \n",
            "3                                          3.97  \n",
            "\n",
            "[4 rows x 48 columns]\n"
          ]
        }
      ]
    },
    {
      "cell_type": "markdown",
      "source": [
        "### **PCA Plot**"
      ],
      "metadata": {
        "id": "4Ibao8vuGHm7"
      }
    },
    {
      "cell_type": "code",
      "source": [
        "cluster_counts = df_pivot_filled[\"Cluster\"].value_counts().sort_index()\n",
        "print(\"Cluster counts:\")\n",
        "print(cluster_counts)\n",
        "\n",
        "for c in sorted(df_pivot_filled[\"Cluster\"].unique()):\n",
        "    print(f\"\\nCluster {c} sample countries:\")\n",
        "    print(df_pivot_filled[df_pivot_filled[\"Cluster\"] == c][\"Country name\"].head(5).to_list())\n",
        "\n",
        "numeric_cols = df_pivot_filled.drop(columns=[\"Country name\", \"Cluster\"]).columns\n",
        "\n",
        "cluster_means = df_pivot_filled.groupby(\"Cluster\")[numeric_cols].mean().round(2)\n",
        "print(\"\\nCluster averages (summary table):\")\n",
        "print(cluster_means)\n",
        "\n",
        "import plotly.express as px\n",
        "\n",
        "fig = px.scatter(\n",
        "    x=X_pca[:,0],\n",
        "    y=X_pca[:,1],\n",
        "    color=df_pivot_filled[\"Cluster\"].astype(str),\n",
        "    hover_name=df_pivot_filled[\"Country name\"],\n",
        "    title=\"Country Clusters (Interactive PCA)\"\n",
        ")\n",
        "\n",
        "fig.show()\n"
      ],
      "metadata": {
        "colab": {
          "base_uri": "https://localhost:8080/",
          "height": 542
        },
        "id": "9aRrroQGGJrU",
        "outputId": "98276968-ef93-492a-ed30-eb29a765d162"
      },
      "execution_count": null,
      "outputs": [
        {
          "output_type": "display_data",
          "data": {
            "text/html": [
              "<html>\n",
              "<head><meta charset=\"utf-8\" /></head>\n",
              "<body>\n",
              "    <div>            <script src=\"https://cdnjs.cloudflare.com/ajax/libs/mathjax/2.7.5/MathJax.js?config=TeX-AMS-MML_SVG\"></script><script type=\"text/javascript\">if (window.MathJax && window.MathJax.Hub && window.MathJax.Hub.Config) {window.MathJax.Hub.Config({SVG: {font: \"STIX-Web\"}});}</script>                <script type=\"text/javascript\">window.PlotlyConfig = {MathJaxConfig: 'local'};</script>\n",
              "        <script charset=\"utf-8\" src=\"https://cdn.plot.ly/plotly-2.35.2.min.js\"></script>                <div id=\"0c7cdbd6-ba50-45dd-b16c-b1e1ffba1c64\" class=\"plotly-graph-div\" style=\"height:525px; width:100%;\"></div>            <script type=\"text/javascript\">                                    window.PLOTLYENV=window.PLOTLYENV || {};                                    if (document.getElementById(\"0c7cdbd6-ba50-45dd-b16c-b1e1ffba1c64\")) {                    Plotly.newPlot(                        \"0c7cdbd6-ba50-45dd-b16c-b1e1ffba1c64\",                        [{\"hovertemplate\":\"\\u003cb\\u003e%{hovertext}\\u003c\\u002fb\\u003e\\u003cbr\\u003e\\u003cbr\\u003ecolor=3\\u003cbr\\u003ex=%{x}\\u003cbr\\u003ey=%{y}\\u003cextra\\u003e\\u003c\\u002fextra\\u003e\",\"hovertext\":[\"Afghanistan\",\"Angola\",\"Bangladesh\",\"Benin\",\"Burkina Faso\",\"Burundi\",\"Cambodia\",\"Cameroon\",\"Central African Republic\",\"Chad\",\"Comoros\",\"Congo, Dem. Rep.\",\"Congo, Rep.\",\"Cote d'Ivoire\",\"Djibouti\",\"Equatorial Guinea\",\"Eritrea\",\"Ethiopia\",\"Gabon\",\"Gambia, The\",\"Ghana\",\"Guinea\",\"Guinea-Bissau\",\"Haiti\",\"India\",\"Kenya\",\"Lao PDR\",\"Lesotho\",\"Liberia\",\"Low income\",\"Lower middle income\",\"Madagascar\",\"Malawi\",\"Mali\",\"Mauritania\",\"Mozambique\",\"Myanmar\",\"Namibia\",\"Nepal\",\"Niger\",\"Nigeria\",\"Pakistan\",\"Papua New Guinea\",\"Rwanda\",\"Senegal\",\"Sierra Leone\",\"Solomon Islands\",\"Somalia\",\"South Asia\",\"Sub-Saharan Africa\",\"Sudan\",\"Swaziland\",\"Tanzania\",\"Timor-Leste\",\"Togo\",\"Uganda\",\"Yemen, Rep.\",\"Zambia\",\"Zimbabwe\"],\"legendgroup\":\"3\",\"marker\":{\"color\":\"#636efa\",\"symbol\":\"circle\"},\"mode\":\"markers\",\"name\":\"3\",\"orientation\":\"v\",\"showlegend\":true,\"x\":[6.691165833197099,6.550570000882977,3.5962708834947836,5.73569844168728,6.7625244945639515,5.959547077522768,5.257835731639194,4.290715536547111,5.9054606907809974,7.6798123286124165,3.3903044234229527,7.384711108375291,4.280964343829372,5.0218052670237965,3.2224997274953373,3.6149507306692934,5.626107137238321,6.640920115036566,2.3581010999964573,3.545374421180112,3.2563001720730846,6.120393958352475,5.810523332161167,4.715685724038106,2.3373131598522874,3.985027084648707,4.426650916817086,3.2384725207752814,5.416182731237378,3.94053320364695,0.9979906261139507,5.198107134838605,5.6255742593360605,6.104593205289767,4.204490213486432,7.124680646087929,1.9052428346982957,2.5382556801801064,4.345457549772709,7.882544729482222,4.866689083166486,2.674007274958743,2.9863096210973983,4.200251164323983,3.8021709721513486,5.327063031630519,2.324213040408953,4.792785828977116,2.126172472251796,4.443678302832731,5.014544776934443,2.960124742365438,5.175747365827699,4.1976359393149005,5.710297479939939,4.804478326113064,4.9226900136830665,3.5094662683877984,2.3997246383137587],\"xaxis\":\"x\",\"y\":[0.6602073572194116,0.15057950848694426,0.15253674592476935,0.036686383316641,0.3584035091175804,0.561429894085346,0.11347789647967667,-0.4722051457242979,0.3661276756388428,0.7045337039332837,-0.1078266740015146,0.4712018081807532,-0.5357700676695708,-0.39591535918882365,0.1898242615143018,0.1550170549714483,0.34411158965300925,0.45726991981287823,-0.7114508025186451,-0.07536858578615718,-0.5426078091999019,0.16194602012381026,0.31684004977005714,-0.18403400030094202,2.902988609294183,-0.4268417216955793,0.38651653298000865,0.05338473305490068,0.2835784340099712,1.361617173798107,6.49410977704353,0.35486019139014924,0.14998261380871947,0.42288838307587706,0.3268938415068264,0.09397137987843747,-0.2589062968631337,-0.534663147893934,-0.03169129697150263,0.8381716247583403,0.2986661773072852,0.12128170465604991,-0.10393093542647365,0.2448883876873267,-0.5055116358249069,0.25022837580290713,-0.029442855664262847,0.591116418815445,3.0225754857113567,1.9829215994829774,0.016414655274462384,0.19120996983005817,-0.28289306824194166,0.1815710616741919,-0.14077317034337714,-0.09627276063502946,-0.008152799629076127,-0.46266674473661734,-0.463176135392013],\"yaxis\":\"y\",\"type\":\"scatter\"},{\"hovertemplate\":\"\\u003cb\\u003e%{hovertext}\\u003c\\u002fb\\u003e\\u003cbr\\u003e\\u003cbr\\u003ecolor=1\\u003cbr\\u003ex=%{x}\\u003cbr\\u003ey=%{y}\\u003cextra\\u003e\\u003c\\u002fextra\\u003e\",\"hovertext\":[\"Albania\",\"Algeria\",\"American Samoa\",\"Andorra\",\"Antigua and Barbuda\",\"Argentina\",\"Armenia\",\"Aruba\",\"Azerbaijan\",\"Bahamas, The\",\"Barbados\",\"Belarus\",\"Belize\",\"Bermuda\",\"Bhutan\",\"Bolivia\",\"Bosnia and Herzegovina\",\"Botswana\",\"Brazil\",\"Bulgaria\",\"Cape Verde\",\"Cayman Islands\",\"Channel Islands\",\"Chile\",\"China\",\"Colombia\",\"Cook Islands\",\"Costa Rica\",\"Croatia\",\"Cuba\",\"Curacao\",\"Cyprus\",\"Czech Republic\",\"Dominica\",\"Dominican Republic\",\"East Asia & Pacific\",\"Ecuador\",\"Egypt, Arab Rep.\",\"El Salvador\",\"Europe & Central Asia\",\"Faeroe Islands\",\"Fiji\",\"French Polynesia\",\"Georgia\",\"Gibraltar\",\"Greenland\",\"Grenada\",\"Guam\",\"Guatemala\",\"Guyana\",\"Honduras\",\"Hungary\",\"Indonesia\",\"Iran, Islamic Rep.\",\"Iraq\",\"Isle of Man\",\"Jamaica\",\"Jordan\",\"Kazakhstan\",\"Kiribati\",\"Korea, Dem. Rep.\",\"Kosovo\",\"Kyrgyz Republic\",\"Latin America & Caribbean\",\"Latvia\",\"Lebanon\",\"Libya\",\"Lithuania\",\"Macao SAR, China\",\"Macedonia, FYR\",\"Malaysia\",\"Maldives\",\"Malta\",\"Marshall Islands\",\"Mauritius\",\"Mayotte\",\"Mexico\",\"Micronesia, Fed. Sts.\",\"Middle East & North Africa\",\"Moldova\",\"Mongolia\",\"Montenegro\",\"Morocco\",\"Nauru\",\"New Caledonia\",\"Nicaragua\",\"Niue\",\"Northern Mariana Islands\",\"Oman\",\"Palau\",\"Panama\",\"Paraguay\",\"Peru\",\"Philippines\",\"Poland\",\"Puerto Rico\",\"Romania\",\"Russian Federation\",\"Samoa\",\"Sao Tome and Principe\",\"Serbia\",\"Seychelles\",\"Sint Maarten (Dutch part)\",\"Small island developing states\",\"South Africa\",\"Sri Lanka\",\"St. Kitts and Nevis\",\"St. Lucia\",\"St. Martin (French part)\",\"St. Vincent and the Grenadines\",\"Suriname\",\"Syrian Arab Republic\",\"Tajikistan\",\"Thailand\",\"Tonga\",\"Tunisia\",\"Turkey\",\"Turkmenistan\",\"Turks and Caicos Islands\",\"Tuvalu\",\"Ukraine\",\"Uruguay\",\"Uzbekistan\",\"Vanuatu\",\"Venezuela, RB\",\"Vietnam\",\"Virgin Islands (U.S.)\",\"West Bank and Gaza\"],\"legendgroup\":\"1\",\"marker\":{\"color\":\"#EF553B\",\"symbol\":\"circle\"},\"mode\":\"markers\",\"name\":\"1\",\"orientation\":\"v\",\"showlegend\":true,\"x\":[-0.8372464969215027,-0.23271256464141404,-0.07670284619649911,-1.3969750384040458,-1.0740593728715577,-2.127788640868269,-2.488676583347726,-1.0080423452850809,-0.8179469128827017,-1.5339396721084966,-1.4551155180189845,-2.923802367546308,-0.037788284197827655,-1.5595843678716934,1.2811308256910914,1.4813545704880662,-2.0987635835107037,0.8116598847527952,-1.4903514144676677,-2.934067431551969,0.36145591579441655,-0.6731049801247144,-0.9259230905566519,-2.0508580302447847,-0.6486680104304126,-1.187916787794251,-1.5689408103533569,-1.2494693132788854,-2.865528493223228,-1.9130578909430938,-0.2143421020710294,-1.5807677291304303,-3.558899102716974,-1.2274430178323874,-0.9812446452273321,-1.1120612283812836,-0.6102339444614034,-2.09239853292499,-0.46104757977872535,-2.2242847609517433,-0.5099357363268784,-0.3191076640969709,-1.080899466681768,-2.4141672908177,-0.954569244886891,-0.9387138516996623,-1.2709984584984038,-0.6943976126817951,1.1651155524357668,-0.3502705650866827,0.8533882114869262,-2.4071434917885273,0.9675092228595673,-0.6894130524389175,0.6576422558617452,-0.5799925409954773,-1.4796648456273558,-1.687788926084427,-2.470851701988878,0.6291967288113416,0.42624706493899495,0.03267571928801577,-1.2072777361825802,-2.1655460936043345,-2.540986514469318,-1.524264031802807,-0.6746395677409553,-1.7267692076125614,-0.822566198211308,-2.1258150819972066,-1.9334909567467857,-1.086136760141667,-2.082687773479715,-0.8124346174611456,-2.4501530993880274,0.3210106294615489,-1.6217490129675496,0.7201648018762147,-0.5761209978367385,-1.8738849225137901,0.30583866732328563,-1.8725240318935172,0.8140576461927479,-0.8540696356601406,-0.2629074801576186,0.710591722393921,-2.0954900785823045,-0.4624299703078347,-0.7529110344117232,-0.8843130579186742,-0.6683465727635035,0.05136775638934262,-0.5919690645445236,0.4613213368504785,-2.1830307296508926,-1.1017535615132212,-1.5487813678995945,-2.455324722869177,-1.3669271576470965,1.542810770086996,-2.429237155595756,-1.826328956399387,0.023304612983112944,0.17036496953642377,-0.5658971558217735,-1.0638931676379608,-1.3342129749188212,-1.4917406275048526,-0.14100180767923448,-1.2285919216465784,-0.9864588907525519,-0.6734779200802913,1.1933213659340693,-2.1985971542861966,-1.261424839704528,-1.0650510537461624,-0.7307170587673544,-1.1788664869663807,-0.21307708599590233,-1.8954447730097677,-2.601267003780078,-2.2548044620899033,-0.8135017084697885,1.39275240470318,-1.0963007396884588,0.35298887047179345,-0.444632487300315,-0.10544419135746583],\"xaxis\":\"x\",\"y\":[-1.174995296910243,-0.5963487761460355,-0.28401448583571864,-0.5314476146954018,-0.6443555620675158,-0.5947632560329353,-1.5106146522244104,-0.5123697287595962,-0.9151777972261614,-0.7257013960919865,-0.5761223018601205,-1.3470594659585802,-0.7711006402610386,-0.6809578375272212,-0.26193981596424765,-0.5373899915595254,-1.083499307778578,-0.5719772710852633,1.0042674888664056,-1.394128138022475,-0.47798544983277735,-0.664567257532369,-0.3897808201961374,-0.998851149163004,3.6353041970674007,-0.9319968089456608,-0.5475219809167058,-1.0182199914419334,-1.3604853368023373,-1.0208162036211048,-0.08885429998587294,-0.9188828299585208,-1.177001450077522,-0.7021983465187943,-0.9833749131269324,5.787662943813381,-0.9627977287878738,-1.0305361874196481,-0.852876712034658,2.3710664505655132,-0.36058374422366507,-0.5779157906661705,-0.5368181498855297,-1.247168395926132,-0.8315656867766067,-0.4733123727132688,-0.7877337900756244,-0.3246772027627882,-0.7698063480984766,-0.5327847688287728,-0.7412436736349292,-1.2022172727108218,0.06309094450640321,-0.531886234149784,-0.6226098654586071,-0.3268276262186688,-1.1936344042466946,-1.1236600397252838,-1.284679931704524,-0.3815650411154892,-0.4000937395872708,-0.33887174677001397,-0.9962827168186764,4.397757837081465,-1.394030311265186,-1.3172662473512153,-0.7731187946080489,-1.0519016628691678,-0.5684859971045665,-1.2723160490469914,-0.43873677972785013,-0.7266862254158849,-0.9811105425571196,-0.5931916617019032,-1.09096674664807,-0.08071374403878502,-0.4424728771300355,-0.3087991530187361,0.23406532659549395,-1.2336755349405106,-0.4915955882471904,-1.0665223585723462,-0.6025142704812749,-0.333034064179218,-0.33998829116599366,-0.7644615722852631,-0.4563923200151773,-0.28087629763367195,-0.6975503935167132,-0.46633824358041565,-1.1701039136493872,-0.77924399944127,-0.9280777267454051,0.1918851165922763,-0.993348685835854,-0.48220570378504146,-1.1006473136576165,0.3184183906741615,-0.6528483914800781,-0.17646670345063706,-1.1974165176818483,-0.7802618396831801,-0.07302177707706396,-0.41198144275675364,-0.6661256240127564,-0.9967256032823043,-0.6562887246518209,-0.7459263073672262,-0.08400787249103374,-0.5938458051997368,-0.466396123661783,-0.9072423321262649,-0.5311333042287704,-0.9016088677285007,-0.7322672732892662,-1.1145310978623995,-0.12639695401966317,-0.6184236124016258,-0.34746262147966406,-0.678626655572491,-1.1508111938368715,-1.4558956914962926,-0.706191237157268,-0.3276044428237793,-1.0382711222838903,-0.5360390316530914,-0.2966980231054051,-0.8209403510509224],\"yaxis\":\"y\",\"type\":\"scatter\"},{\"hovertemplate\":\"\\u003cb\\u003e%{hovertext}\\u003c\\u002fb\\u003e\\u003cbr\\u003e\\u003cbr\\u003ecolor=0\\u003cbr\\u003ex=%{x}\\u003cbr\\u003ey=%{y}\\u003cextra\\u003e\\u003c\\u002fextra\\u003e\",\"hovertext\":[\"Australia\",\"Austria\",\"Bahrain\",\"Belgium\",\"Brunei Darussalam\",\"Canada\",\"Denmark\",\"Estonia\",\"Euro area\",\"Finland\",\"France\",\"Germany\",\"Greece\",\"Hong Kong SAR, China\",\"Iceland\",\"Ireland\",\"Israel\",\"Italy\",\"Japan\",\"Korea, Rep.\",\"Kuwait\",\"Liechtenstein\",\"Luxembourg\",\"Monaco\",\"Netherlands\",\"New Zealand\",\"Norway\",\"Portugal\",\"Qatar\",\"San Marino\",\"Saudi Arabia\",\"Singapore\",\"Slovak Republic\",\"Slovenia\",\"Spain\",\"Sweden\",\"Switzerland\",\"Trinidad and Tobago\",\"United Arab Emirates\",\"United Kingdom\",\"United States\"],\"legendgroup\":\"0\",\"marker\":{\"color\":\"#00cc96\",\"symbol\":\"circle\"},\"mode\":\"markers\",\"name\":\"0\",\"orientation\":\"v\",\"showlegend\":true,\"x\":[-2.888027977527848,-3.179790671793467,-2.8426932672945635,-3.6492855788469587,-1.6198057831251709,-3.1599524869319953,-3.8061846057699,-2.9630114732356874,-3.1002828457775466,-3.2816185625762024,-3.494541569679407,-4.108988688986196,-2.2925212857273896,-2.45066925653283,-2.7655669861282988,-3.554549910354413,-2.81374464257271,-2.5526118448947157,-3.9668718251813226,-3.1222765859174766,-3.783600531314521,-1.888045625898556,-4.34658186290758,-4.449545838064024,-3.7877295938818643,-2.5717386573570735,-3.432286515474704,-2.312127621830394,-3.706549487892357,-4.451219410889508,-2.242005349066356,-3.317276306594345,-2.950132013008879,-3.233728244677213,-2.477344589070627,-2.9620063393652187,-3.372829286900407,-2.7867869462886254,-2.2221678894520642,-3.52561867577888,-4.868537498207781],\"xaxis\":\"x\",\"y\":[-0.9909242405246357,-1.069415320372483,-1.3679145596020643,-1.1112683855447754,-0.8797960943075094,-0.7992124114417414,-1.2199257399883467,-1.0267873185394432,1.3510594706464238,-1.1399712238760449,-0.693156760873352,-0.5136109208118923,-0.9362108335547559,-1.2436515028845279,-1.14767568549672,-1.1573841913798795,-1.1008628064665906,-0.6144509632727999,-0.20046697711840836,-0.7134511748944241,-1.4319517777622248,-0.5239823052585145,-1.6176194196449345,-1.206912396255283,-1.139267635450574,-0.953107932573516,-1.1733894276217496,-1.00607925362721,-1.4092739039383004,-1.1080316118601135,-0.803654225011836,-1.405792979910319,-1.0621110346196514,-1.1418352065560124,-0.795955689143879,-1.0213191815115565,-1.1051358894573438,-0.9819877059508426,-1.1048893022495274,-0.7294257860372027,2.284575739962175],\"yaxis\":\"y\",\"type\":\"scatter\"},{\"hovertemplate\":\"\\u003cb\\u003e%{hovertext}\\u003c\\u002fb\\u003e\\u003cbr\\u003e\\u003cbr\\u003ecolor=2\\u003cbr\\u003ex=%{x}\\u003cbr\\u003ey=%{y}\\u003cextra\\u003e\\u003c\\u002fextra\\u003e\",\"hovertext\":[\"High income\",\"Low & middle income\",\"Middle income\",\"Upper middle income\",\"World\"],\"legendgroup\":\"2\",\"marker\":{\"color\":\"#ab63fa\",\"symbol\":\"circle\"},\"mode\":\"markers\",\"name\":\"2\",\"orientation\":\"v\",\"showlegend\":true,\"x\":[-4.381380982437307,-2.2777513577134134,-3.0873652330513783,-3.3741655201191456,-3.2202250972851276],\"xaxis\":\"x\",\"y\":[8.479273483831061,21.374367724886127,20.685667661494335,12.90394030145132,22.610006161589887],\"yaxis\":\"y\",\"type\":\"scatter\"}],                        {\"template\":{\"data\":{\"histogram2dcontour\":[{\"type\":\"histogram2dcontour\",\"colorbar\":{\"outlinewidth\":0,\"ticks\":\"\"},\"colorscale\":[[0.0,\"#0d0887\"],[0.1111111111111111,\"#46039f\"],[0.2222222222222222,\"#7201a8\"],[0.3333333333333333,\"#9c179e\"],[0.4444444444444444,\"#bd3786\"],[0.5555555555555556,\"#d8576b\"],[0.6666666666666666,\"#ed7953\"],[0.7777777777777778,\"#fb9f3a\"],[0.8888888888888888,\"#fdca26\"],[1.0,\"#f0f921\"]]}],\"choropleth\":[{\"type\":\"choropleth\",\"colorbar\":{\"outlinewidth\":0,\"ticks\":\"\"}}],\"histogram2d\":[{\"type\":\"histogram2d\",\"colorbar\":{\"outlinewidth\":0,\"ticks\":\"\"},\"colorscale\":[[0.0,\"#0d0887\"],[0.1111111111111111,\"#46039f\"],[0.2222222222222222,\"#7201a8\"],[0.3333333333333333,\"#9c179e\"],[0.4444444444444444,\"#bd3786\"],[0.5555555555555556,\"#d8576b\"],[0.6666666666666666,\"#ed7953\"],[0.7777777777777778,\"#fb9f3a\"],[0.8888888888888888,\"#fdca26\"],[1.0,\"#f0f921\"]]}],\"heatmap\":[{\"type\":\"heatmap\",\"colorbar\":{\"outlinewidth\":0,\"ticks\":\"\"},\"colorscale\":[[0.0,\"#0d0887\"],[0.1111111111111111,\"#46039f\"],[0.2222222222222222,\"#7201a8\"],[0.3333333333333333,\"#9c179e\"],[0.4444444444444444,\"#bd3786\"],[0.5555555555555556,\"#d8576b\"],[0.6666666666666666,\"#ed7953\"],[0.7777777777777778,\"#fb9f3a\"],[0.8888888888888888,\"#fdca26\"],[1.0,\"#f0f921\"]]}],\"heatmapgl\":[{\"type\":\"heatmapgl\",\"colorbar\":{\"outlinewidth\":0,\"ticks\":\"\"},\"colorscale\":[[0.0,\"#0d0887\"],[0.1111111111111111,\"#46039f\"],[0.2222222222222222,\"#7201a8\"],[0.3333333333333333,\"#9c179e\"],[0.4444444444444444,\"#bd3786\"],[0.5555555555555556,\"#d8576b\"],[0.6666666666666666,\"#ed7953\"],[0.7777777777777778,\"#fb9f3a\"],[0.8888888888888888,\"#fdca26\"],[1.0,\"#f0f921\"]]}],\"contourcarpet\":[{\"type\":\"contourcarpet\",\"colorbar\":{\"outlinewidth\":0,\"ticks\":\"\"}}],\"contour\":[{\"type\":\"contour\",\"colorbar\":{\"outlinewidth\":0,\"ticks\":\"\"},\"colorscale\":[[0.0,\"#0d0887\"],[0.1111111111111111,\"#46039f\"],[0.2222222222222222,\"#7201a8\"],[0.3333333333333333,\"#9c179e\"],[0.4444444444444444,\"#bd3786\"],[0.5555555555555556,\"#d8576b\"],[0.6666666666666666,\"#ed7953\"],[0.7777777777777778,\"#fb9f3a\"],[0.8888888888888888,\"#fdca26\"],[1.0,\"#f0f921\"]]}],\"surface\":[{\"type\":\"surface\",\"colorbar\":{\"outlinewidth\":0,\"ticks\":\"\"},\"colorscale\":[[0.0,\"#0d0887\"],[0.1111111111111111,\"#46039f\"],[0.2222222222222222,\"#7201a8\"],[0.3333333333333333,\"#9c179e\"],[0.4444444444444444,\"#bd3786\"],[0.5555555555555556,\"#d8576b\"],[0.6666666666666666,\"#ed7953\"],[0.7777777777777778,\"#fb9f3a\"],[0.8888888888888888,\"#fdca26\"],[1.0,\"#f0f921\"]]}],\"mesh3d\":[{\"type\":\"mesh3d\",\"colorbar\":{\"outlinewidth\":0,\"ticks\":\"\"}}],\"scatter\":[{\"fillpattern\":{\"fillmode\":\"overlay\",\"size\":10,\"solidity\":0.2},\"type\":\"scatter\"}],\"parcoords\":[{\"type\":\"parcoords\",\"line\":{\"colorbar\":{\"outlinewidth\":0,\"ticks\":\"\"}}}],\"scatterpolargl\":[{\"type\":\"scatterpolargl\",\"marker\":{\"colorbar\":{\"outlinewidth\":0,\"ticks\":\"\"}}}],\"bar\":[{\"error_x\":{\"color\":\"#2a3f5f\"},\"error_y\":{\"color\":\"#2a3f5f\"},\"marker\":{\"line\":{\"color\":\"#E5ECF6\",\"width\":0.5},\"pattern\":{\"fillmode\":\"overlay\",\"size\":10,\"solidity\":0.2}},\"type\":\"bar\"}],\"scattergeo\":[{\"type\":\"scattergeo\",\"marker\":{\"colorbar\":{\"outlinewidth\":0,\"ticks\":\"\"}}}],\"scatterpolar\":[{\"type\":\"scatterpolar\",\"marker\":{\"colorbar\":{\"outlinewidth\":0,\"ticks\":\"\"}}}],\"histogram\":[{\"marker\":{\"pattern\":{\"fillmode\":\"overlay\",\"size\":10,\"solidity\":0.2}},\"type\":\"histogram\"}],\"scattergl\":[{\"type\":\"scattergl\",\"marker\":{\"colorbar\":{\"outlinewidth\":0,\"ticks\":\"\"}}}],\"scatter3d\":[{\"type\":\"scatter3d\",\"line\":{\"colorbar\":{\"outlinewidth\":0,\"ticks\":\"\"}},\"marker\":{\"colorbar\":{\"outlinewidth\":0,\"ticks\":\"\"}}}],\"scattermapbox\":[{\"type\":\"scattermapbox\",\"marker\":{\"colorbar\":{\"outlinewidth\":0,\"ticks\":\"\"}}}],\"scatterternary\":[{\"type\":\"scatterternary\",\"marker\":{\"colorbar\":{\"outlinewidth\":0,\"ticks\":\"\"}}}],\"scattercarpet\":[{\"type\":\"scattercarpet\",\"marker\":{\"colorbar\":{\"outlinewidth\":0,\"ticks\":\"\"}}}],\"carpet\":[{\"aaxis\":{\"endlinecolor\":\"#2a3f5f\",\"gridcolor\":\"white\",\"linecolor\":\"white\",\"minorgridcolor\":\"white\",\"startlinecolor\":\"#2a3f5f\"},\"baxis\":{\"endlinecolor\":\"#2a3f5f\",\"gridcolor\":\"white\",\"linecolor\":\"white\",\"minorgridcolor\":\"white\",\"startlinecolor\":\"#2a3f5f\"},\"type\":\"carpet\"}],\"table\":[{\"cells\":{\"fill\":{\"color\":\"#EBF0F8\"},\"line\":{\"color\":\"white\"}},\"header\":{\"fill\":{\"color\":\"#C8D4E3\"},\"line\":{\"color\":\"white\"}},\"type\":\"table\"}],\"barpolar\":[{\"marker\":{\"line\":{\"color\":\"#E5ECF6\",\"width\":0.5},\"pattern\":{\"fillmode\":\"overlay\",\"size\":10,\"solidity\":0.2}},\"type\":\"barpolar\"}],\"pie\":[{\"automargin\":true,\"type\":\"pie\"}]},\"layout\":{\"autotypenumbers\":\"strict\",\"colorway\":[\"#636efa\",\"#EF553B\",\"#00cc96\",\"#ab63fa\",\"#FFA15A\",\"#19d3f3\",\"#FF6692\",\"#B6E880\",\"#FF97FF\",\"#FECB52\"],\"font\":{\"color\":\"#2a3f5f\"},\"hovermode\":\"closest\",\"hoverlabel\":{\"align\":\"left\"},\"paper_bgcolor\":\"white\",\"plot_bgcolor\":\"#E5ECF6\",\"polar\":{\"bgcolor\":\"#E5ECF6\",\"angularaxis\":{\"gridcolor\":\"white\",\"linecolor\":\"white\",\"ticks\":\"\"},\"radialaxis\":{\"gridcolor\":\"white\",\"linecolor\":\"white\",\"ticks\":\"\"}},\"ternary\":{\"bgcolor\":\"#E5ECF6\",\"aaxis\":{\"gridcolor\":\"white\",\"linecolor\":\"white\",\"ticks\":\"\"},\"baxis\":{\"gridcolor\":\"white\",\"linecolor\":\"white\",\"ticks\":\"\"},\"caxis\":{\"gridcolor\":\"white\",\"linecolor\":\"white\",\"ticks\":\"\"}},\"coloraxis\":{\"colorbar\":{\"outlinewidth\":0,\"ticks\":\"\"}},\"colorscale\":{\"sequential\":[[0.0,\"#0d0887\"],[0.1111111111111111,\"#46039f\"],[0.2222222222222222,\"#7201a8\"],[0.3333333333333333,\"#9c179e\"],[0.4444444444444444,\"#bd3786\"],[0.5555555555555556,\"#d8576b\"],[0.6666666666666666,\"#ed7953\"],[0.7777777777777778,\"#fb9f3a\"],[0.8888888888888888,\"#fdca26\"],[1.0,\"#f0f921\"]],\"sequentialminus\":[[0.0,\"#0d0887\"],[0.1111111111111111,\"#46039f\"],[0.2222222222222222,\"#7201a8\"],[0.3333333333333333,\"#9c179e\"],[0.4444444444444444,\"#bd3786\"],[0.5555555555555556,\"#d8576b\"],[0.6666666666666666,\"#ed7953\"],[0.7777777777777778,\"#fb9f3a\"],[0.8888888888888888,\"#fdca26\"],[1.0,\"#f0f921\"]],\"diverging\":[[0,\"#8e0152\"],[0.1,\"#c51b7d\"],[0.2,\"#de77ae\"],[0.3,\"#f1b6da\"],[0.4,\"#fde0ef\"],[0.5,\"#f7f7f7\"],[0.6,\"#e6f5d0\"],[0.7,\"#b8e186\"],[0.8,\"#7fbc41\"],[0.9,\"#4d9221\"],[1,\"#276419\"]]},\"xaxis\":{\"gridcolor\":\"white\",\"linecolor\":\"white\",\"ticks\":\"\",\"title\":{\"standoff\":15},\"zerolinecolor\":\"white\",\"automargin\":true,\"zerolinewidth\":2},\"yaxis\":{\"gridcolor\":\"white\",\"linecolor\":\"white\",\"ticks\":\"\",\"title\":{\"standoff\":15},\"zerolinecolor\":\"white\",\"automargin\":true,\"zerolinewidth\":2},\"scene\":{\"xaxis\":{\"backgroundcolor\":\"#E5ECF6\",\"gridcolor\":\"white\",\"linecolor\":\"white\",\"showbackground\":true,\"ticks\":\"\",\"zerolinecolor\":\"white\",\"gridwidth\":2},\"yaxis\":{\"backgroundcolor\":\"#E5ECF6\",\"gridcolor\":\"white\",\"linecolor\":\"white\",\"showbackground\":true,\"ticks\":\"\",\"zerolinecolor\":\"white\",\"gridwidth\":2},\"zaxis\":{\"backgroundcolor\":\"#E5ECF6\",\"gridcolor\":\"white\",\"linecolor\":\"white\",\"showbackground\":true,\"ticks\":\"\",\"zerolinecolor\":\"white\",\"gridwidth\":2}},\"shapedefaults\":{\"line\":{\"color\":\"#2a3f5f\"}},\"annotationdefaults\":{\"arrowcolor\":\"#2a3f5f\",\"arrowhead\":0,\"arrowwidth\":1},\"geo\":{\"bgcolor\":\"white\",\"landcolor\":\"#E5ECF6\",\"subunitcolor\":\"white\",\"showland\":true,\"showlakes\":true,\"lakecolor\":\"white\"},\"title\":{\"x\":0.05},\"mapbox\":{\"style\":\"light\"}}},\"xaxis\":{\"anchor\":\"y\",\"domain\":[0.0,1.0],\"title\":{\"text\":\"x\"}},\"yaxis\":{\"anchor\":\"x\",\"domain\":[0.0,1.0],\"title\":{\"text\":\"y\"}},\"legend\":{\"title\":{\"text\":\"color\"},\"tracegroupgap\":0},\"title\":{\"text\":\"Country Clusters (Interactive PCA)\"}},                        {\"responsive\": true}                    ).then(function(){\n",
              "                            \n",
              "var gd = document.getElementById('0c7cdbd6-ba50-45dd-b16c-b1e1ffba1c64');\n",
              "var x = new MutationObserver(function (mutations, observer) {{\n",
              "        var display = window.getComputedStyle(gd).display;\n",
              "        if (!display || display === 'none') {{\n",
              "            console.log([gd, 'removed!']);\n",
              "            Plotly.purge(gd);\n",
              "            observer.disconnect();\n",
              "        }}\n",
              "}});\n",
              "\n",
              "// Listen for the removal of the full notebook cells\n",
              "var notebookContainer = gd.closest('#notebook-container');\n",
              "if (notebookContainer) {{\n",
              "    x.observe(notebookContainer, {childList: true});\n",
              "}}\n",
              "\n",
              "// Listen for the clearing of the current output cell\n",
              "var outputEl = gd.closest('.output');\n",
              "if (outputEl) {{\n",
              "    x.observe(outputEl, {childList: true});\n",
              "}}\n",
              "\n",
              "                        })                };                            </script>        </div>\n",
              "</body>\n",
              "</html>"
            ]
          },
          "metadata": {}
        }
      ]
    },
    {
      "cell_type": "code",
      "source": [
        "pip install streamlit\n"
      ],
      "metadata": {
        "colab": {
          "base_uri": "https://localhost:8080/"
        },
        "id": "Q59MQzfkGw9l",
        "outputId": "88c9668c-fc7a-4e3e-b247-46a31045b721"
      },
      "execution_count": null,
      "outputs": [
        {
          "output_type": "stream",
          "name": "stdout",
          "text": [
            "Collecting streamlit\n",
            "  Downloading streamlit-1.49.1-py3-none-any.whl.metadata (9.5 kB)\n",
            "Requirement already satisfied: altair!=5.4.0,!=5.4.1,<6,>=4.0 in /usr/local/lib/python3.12/dist-packages (from streamlit) (5.5.0)\n",
            "Requirement already satisfied: blinker<2,>=1.5.0 in /usr/local/lib/python3.12/dist-packages (from streamlit) (1.9.0)\n",
            "Requirement already satisfied: cachetools<7,>=4.0 in /usr/local/lib/python3.12/dist-packages (from streamlit) (5.5.2)\n",
            "Requirement already satisfied: click<9,>=7.0 in /usr/local/lib/python3.12/dist-packages (from streamlit) (8.2.1)\n",
            "Requirement already satisfied: numpy<3,>=1.23 in /usr/local/lib/python3.12/dist-packages (from streamlit) (2.0.2)\n",
            "Requirement already satisfied: packaging<26,>=20 in /usr/local/lib/python3.12/dist-packages (from streamlit) (25.0)\n",
            "Requirement already satisfied: pandas<3,>=1.4.0 in /usr/local/lib/python3.12/dist-packages (from streamlit) (2.2.2)\n",
            "Requirement already satisfied: pillow<12,>=7.1.0 in /usr/local/lib/python3.12/dist-packages (from streamlit) (11.3.0)\n",
            "Requirement already satisfied: protobuf<7,>=3.20 in /usr/local/lib/python3.12/dist-packages (from streamlit) (5.29.5)\n",
            "Requirement already satisfied: pyarrow>=7.0 in /usr/local/lib/python3.12/dist-packages (from streamlit) (18.1.0)\n",
            "Requirement already satisfied: requests<3,>=2.27 in /usr/local/lib/python3.12/dist-packages (from streamlit) (2.32.4)\n",
            "Requirement already satisfied: tenacity<10,>=8.1.0 in /usr/local/lib/python3.12/dist-packages (from streamlit) (8.5.0)\n",
            "Requirement already satisfied: toml<2,>=0.10.1 in /usr/local/lib/python3.12/dist-packages (from streamlit) (0.10.2)\n",
            "Requirement already satisfied: typing-extensions<5,>=4.4.0 in /usr/local/lib/python3.12/dist-packages (from streamlit) (4.15.0)\n",
            "Requirement already satisfied: watchdog<7,>=2.1.5 in /usr/local/lib/python3.12/dist-packages (from streamlit) (6.0.0)\n",
            "Requirement already satisfied: gitpython!=3.1.19,<4,>=3.0.7 in /usr/local/lib/python3.12/dist-packages (from streamlit) (3.1.45)\n",
            "Collecting pydeck<1,>=0.8.0b4 (from streamlit)\n",
            "  Downloading pydeck-0.9.1-py2.py3-none-any.whl.metadata (4.1 kB)\n",
            "Requirement already satisfied: tornado!=6.5.0,<7,>=6.0.3 in /usr/local/lib/python3.12/dist-packages (from streamlit) (6.4.2)\n",
            "Requirement already satisfied: jinja2 in /usr/local/lib/python3.12/dist-packages (from altair!=5.4.0,!=5.4.1,<6,>=4.0->streamlit) (3.1.6)\n",
            "Requirement already satisfied: jsonschema>=3.0 in /usr/local/lib/python3.12/dist-packages (from altair!=5.4.0,!=5.4.1,<6,>=4.0->streamlit) (4.25.1)\n",
            "Requirement already satisfied: narwhals>=1.14.2 in /usr/local/lib/python3.12/dist-packages (from altair!=5.4.0,!=5.4.1,<6,>=4.0->streamlit) (2.3.0)\n",
            "Requirement already satisfied: gitdb<5,>=4.0.1 in /usr/local/lib/python3.12/dist-packages (from gitpython!=3.1.19,<4,>=3.0.7->streamlit) (4.0.12)\n",
            "Requirement already satisfied: python-dateutil>=2.8.2 in /usr/local/lib/python3.12/dist-packages (from pandas<3,>=1.4.0->streamlit) (2.9.0.post0)\n",
            "Requirement already satisfied: pytz>=2020.1 in /usr/local/lib/python3.12/dist-packages (from pandas<3,>=1.4.0->streamlit) (2025.2)\n",
            "Requirement already satisfied: tzdata>=2022.7 in /usr/local/lib/python3.12/dist-packages (from pandas<3,>=1.4.0->streamlit) (2025.2)\n",
            "Requirement already satisfied: charset_normalizer<4,>=2 in /usr/local/lib/python3.12/dist-packages (from requests<3,>=2.27->streamlit) (3.4.3)\n",
            "Requirement already satisfied: idna<4,>=2.5 in /usr/local/lib/python3.12/dist-packages (from requests<3,>=2.27->streamlit) (3.10)\n",
            "Requirement already satisfied: urllib3<3,>=1.21.1 in /usr/local/lib/python3.12/dist-packages (from requests<3,>=2.27->streamlit) (2.5.0)\n",
            "Requirement already satisfied: certifi>=2017.4.17 in /usr/local/lib/python3.12/dist-packages (from requests<3,>=2.27->streamlit) (2025.8.3)\n",
            "Requirement already satisfied: smmap<6,>=3.0.1 in /usr/local/lib/python3.12/dist-packages (from gitdb<5,>=4.0.1->gitpython!=3.1.19,<4,>=3.0.7->streamlit) (5.0.2)\n",
            "Requirement already satisfied: MarkupSafe>=2.0 in /usr/local/lib/python3.12/dist-packages (from jinja2->altair!=5.4.0,!=5.4.1,<6,>=4.0->streamlit) (3.0.2)\n",
            "Requirement already satisfied: attrs>=22.2.0 in /usr/local/lib/python3.12/dist-packages (from jsonschema>=3.0->altair!=5.4.0,!=5.4.1,<6,>=4.0->streamlit) (25.3.0)\n",
            "Requirement already satisfied: jsonschema-specifications>=2023.03.6 in /usr/local/lib/python3.12/dist-packages (from jsonschema>=3.0->altair!=5.4.0,!=5.4.1,<6,>=4.0->streamlit) (2025.4.1)\n",
            "Requirement already satisfied: referencing>=0.28.4 in /usr/local/lib/python3.12/dist-packages (from jsonschema>=3.0->altair!=5.4.0,!=5.4.1,<6,>=4.0->streamlit) (0.36.2)\n",
            "Requirement already satisfied: rpds-py>=0.7.1 in /usr/local/lib/python3.12/dist-packages (from jsonschema>=3.0->altair!=5.4.0,!=5.4.1,<6,>=4.0->streamlit) (0.27.1)\n",
            "Requirement already satisfied: six>=1.5 in /usr/local/lib/python3.12/dist-packages (from python-dateutil>=2.8.2->pandas<3,>=1.4.0->streamlit) (1.17.0)\n",
            "Downloading streamlit-1.49.1-py3-none-any.whl (10.0 MB)\n",
            "\u001b[2K   \u001b[90m━━━━━━━━━━━━━━━━━━━━━━━━━━━━━━━━━━━━━━━━\u001b[0m \u001b[32m10.0/10.0 MB\u001b[0m \u001b[31m62.4 MB/s\u001b[0m eta \u001b[36m0:00:00\u001b[0m\n",
            "\u001b[?25hDownloading pydeck-0.9.1-py2.py3-none-any.whl (6.9 MB)\n",
            "\u001b[2K   \u001b[90m━━━━━━━━━━━━━━━━━━━━━━━━━━━━━━━━━━━━━━━━\u001b[0m \u001b[32m6.9/6.9 MB\u001b[0m \u001b[31m116.6 MB/s\u001b[0m eta \u001b[36m0:00:00\u001b[0m\n",
            "\u001b[?25hInstalling collected packages: pydeck, streamlit\n",
            "Successfully installed pydeck-0.9.1 streamlit-1.49.1\n"
          ]
        }
      ]
    },
    {
      "cell_type": "code",
      "source": [
        "import streamlit as st\n",
        "import pandas as pd\n",
        "import matplotlib.pyplot as plt\n",
        "from sklearn.decomposition import PCA\n",
        "from sklearn.preprocessing import StandardScaler\n",
        "from sklearn.cluster import KMeans\n",
        "\n",
        "df = pd.read_csv(\"/content/sample_data/Projected annual temperature change (2045-2065 Celsius) - Data.csv\")\n",
        "\n",
        "st.title(\"🌍 Country Clusters on Sustainable Energy & Efficiency\")\n",
        "\n",
        "X = df.select_dtypes(include=[\"number\"])\n",
        "\n",
        "if X.empty:\n",
        "    st.error(\"⚠️ No numeric columns found in the dataset. Please check your CSV.\")\n",
        "else:\n",
        "\n",
        "    scaler = StandardScaler()\n",
        "    X_scaled = scaler.fit_transform(X)\n",
        "\n",
        "    kmeans = KMeans(n_clusters=4, random_state=42, n_init=10)\n",
        "    df[\"Cluster\"] = kmeans.fit_predict(X_scaled)\n",
        "\n",
        "    pca = PCA(n_components=2)\n",
        "    X_pca = pca.fit_transform(X_scaled)\n",
        "\n",
        "    st.write(\"### Sample of Clustered Data\")\n",
        "    if \"Country name\" in df.columns:\n",
        "        st.dataframe(df[[\"Country name\", \"Cluster\"]].head(10))\n",
        "    else:\n",
        "        st.dataframe(df.head(10))\n",
        "\n",
        "    st.write(\"### Cluster Counts\")\n",
        "    st.bar_chart(df[\"Cluster\"].value_counts())\n",
        "\n",
        "\n",
        "    if \"Country name\" in df.columns:\n",
        "        st.write(\"### Sample Countries per Cluster\")\n",
        "        for c in df[\"Cluster\"].unique():\n",
        "            st.write(f\"**Cluster {c}:**\")\n",
        "            st.write(df[df[\"Cluster\"] == c][\"Country name\"].head(5).tolist())\n",
        "\n",
        "    st.write(\"### Cluster Averages\")\n",
        "    st.dataframe(df.groupby(\"Cluster\").mean(numeric_only=True))\n",
        "\n",
        "    st.write(\"### PCA Visualization of Clusters\")\n",
        "    fig, ax = plt.subplots(figsize=(10, 6))\n",
        "    scatter = ax.scatter(\n",
        "        X_pca[:, 0], X_pca[:, 1],\n",
        "        c=df[\"Cluster\"], cmap=\"viridis\", alpha=0.7\n",
        "    )\n",
        "    plt.colorbar(scatter, label=\"Cluster\")\n",
        "    ax.set_xlabel(\"PCA 1\")\n",
        "    ax.set_ylabel(\"PCA 2\")\n",
        "    ax.set_title(\"Country Clusters\")\n",
        "    st.pyplot(fig)\n"
      ],
      "metadata": {
        "colab": {
          "base_uri": "https://localhost:8080/"
        },
        "id": "eehnRAl7G5Su",
        "outputId": "4bef8675-ef83-4e82-f1e8-54734df4d85b"
      },
      "execution_count": null,
      "outputs": [
        {
          "output_type": "stream",
          "name": "stderr",
          "text": [
            "2025-09-13 17:29:31.511 WARNING streamlit.runtime.scriptrunner_utils.script_run_context: Thread 'MainThread': missing ScriptRunContext! This warning can be ignored when running in bare mode.\n",
            "2025-09-13 17:29:31.892 \n",
            "  \u001b[33m\u001b[1mWarning:\u001b[0m to view this Streamlit app on a browser, run it with the following\n",
            "  command:\n",
            "\n",
            "    streamlit run /usr/local/lib/python3.12/dist-packages/colab_kernel_launcher.py [ARGUMENTS]\n",
            "2025-09-13 17:29:31.894 Thread 'MainThread': missing ScriptRunContext! This warning can be ignored when running in bare mode.\n",
            "2025-09-13 17:29:31.896 Thread 'MainThread': missing ScriptRunContext! This warning can be ignored when running in bare mode.\n",
            "2025-09-13 17:29:31.899 Thread 'MainThread': missing ScriptRunContext! This warning can be ignored when running in bare mode.\n",
            "2025-09-13 17:29:31.901 Thread 'MainThread': missing ScriptRunContext! This warning can be ignored when running in bare mode.\n",
            "2025-09-13 17:29:31.902 Thread 'MainThread': missing ScriptRunContext! This warning can be ignored when running in bare mode.\n"
          ]
        }
      ]
    },
    {
      "cell_type": "code",
      "source": [
        "!streamlit run app.py\n",
        "\n"
      ],
      "metadata": {
        "colab": {
          "base_uri": "https://localhost:8080/"
        },
        "id": "SBpPjvnbIXsl",
        "outputId": "f514de80-3c15-48ff-f114-53f76053a301"
      },
      "execution_count": null,
      "outputs": [
        {
          "output_type": "stream",
          "name": "stdout",
          "text": [
            "Usage: streamlit run [OPTIONS] TARGET [ARGS]...\n",
            "Try 'streamlit run --help' for help.\n",
            "\n",
            "Error: Invalid value: File does not exist: app.py\n"
          ]
        }
      ]
    },
    {
      "cell_type": "code",
      "source": [
        "!pip install streamlit pyngrok\n"
      ],
      "metadata": {
        "colab": {
          "base_uri": "https://localhost:8080/"
        },
        "id": "pxpf6kr1IveZ",
        "outputId": "8fb601be-bfa1-456c-cf87-8d3001227e70"
      },
      "execution_count": null,
      "outputs": [
        {
          "output_type": "stream",
          "name": "stdout",
          "text": [
            "Requirement already satisfied: streamlit in /usr/local/lib/python3.12/dist-packages (1.49.1)\n",
            "Collecting pyngrok\n",
            "  Downloading pyngrok-7.3.0-py3-none-any.whl.metadata (8.1 kB)\n",
            "Requirement already satisfied: altair!=5.4.0,!=5.4.1,<6,>=4.0 in /usr/local/lib/python3.12/dist-packages (from streamlit) (5.5.0)\n",
            "Requirement already satisfied: blinker<2,>=1.5.0 in /usr/local/lib/python3.12/dist-packages (from streamlit) (1.9.0)\n",
            "Requirement already satisfied: cachetools<7,>=4.0 in /usr/local/lib/python3.12/dist-packages (from streamlit) (5.5.2)\n",
            "Requirement already satisfied: click<9,>=7.0 in /usr/local/lib/python3.12/dist-packages (from streamlit) (8.2.1)\n",
            "Requirement already satisfied: numpy<3,>=1.23 in /usr/local/lib/python3.12/dist-packages (from streamlit) (2.0.2)\n",
            "Requirement already satisfied: packaging<26,>=20 in /usr/local/lib/python3.12/dist-packages (from streamlit) (25.0)\n",
            "Requirement already satisfied: pandas<3,>=1.4.0 in /usr/local/lib/python3.12/dist-packages (from streamlit) (2.2.2)\n",
            "Requirement already satisfied: pillow<12,>=7.1.0 in /usr/local/lib/python3.12/dist-packages (from streamlit) (11.3.0)\n",
            "Requirement already satisfied: protobuf<7,>=3.20 in /usr/local/lib/python3.12/dist-packages (from streamlit) (5.29.5)\n",
            "Requirement already satisfied: pyarrow>=7.0 in /usr/local/lib/python3.12/dist-packages (from streamlit) (18.1.0)\n",
            "Requirement already satisfied: requests<3,>=2.27 in /usr/local/lib/python3.12/dist-packages (from streamlit) (2.32.4)\n",
            "Requirement already satisfied: tenacity<10,>=8.1.0 in /usr/local/lib/python3.12/dist-packages (from streamlit) (8.5.0)\n",
            "Requirement already satisfied: toml<2,>=0.10.1 in /usr/local/lib/python3.12/dist-packages (from streamlit) (0.10.2)\n",
            "Requirement already satisfied: typing-extensions<5,>=4.4.0 in /usr/local/lib/python3.12/dist-packages (from streamlit) (4.15.0)\n",
            "Requirement already satisfied: watchdog<7,>=2.1.5 in /usr/local/lib/python3.12/dist-packages (from streamlit) (6.0.0)\n",
            "Requirement already satisfied: gitpython!=3.1.19,<4,>=3.0.7 in /usr/local/lib/python3.12/dist-packages (from streamlit) (3.1.45)\n",
            "Requirement already satisfied: pydeck<1,>=0.8.0b4 in /usr/local/lib/python3.12/dist-packages (from streamlit) (0.9.1)\n",
            "Requirement already satisfied: tornado!=6.5.0,<7,>=6.0.3 in /usr/local/lib/python3.12/dist-packages (from streamlit) (6.4.2)\n",
            "Requirement already satisfied: PyYAML>=5.1 in /usr/local/lib/python3.12/dist-packages (from pyngrok) (6.0.2)\n",
            "Requirement already satisfied: jinja2 in /usr/local/lib/python3.12/dist-packages (from altair!=5.4.0,!=5.4.1,<6,>=4.0->streamlit) (3.1.6)\n",
            "Requirement already satisfied: jsonschema>=3.0 in /usr/local/lib/python3.12/dist-packages (from altair!=5.4.0,!=5.4.1,<6,>=4.0->streamlit) (4.25.1)\n",
            "Requirement already satisfied: narwhals>=1.14.2 in /usr/local/lib/python3.12/dist-packages (from altair!=5.4.0,!=5.4.1,<6,>=4.0->streamlit) (2.3.0)\n",
            "Requirement already satisfied: gitdb<5,>=4.0.1 in /usr/local/lib/python3.12/dist-packages (from gitpython!=3.1.19,<4,>=3.0.7->streamlit) (4.0.12)\n",
            "Requirement already satisfied: python-dateutil>=2.8.2 in /usr/local/lib/python3.12/dist-packages (from pandas<3,>=1.4.0->streamlit) (2.9.0.post0)\n",
            "Requirement already satisfied: pytz>=2020.1 in /usr/local/lib/python3.12/dist-packages (from pandas<3,>=1.4.0->streamlit) (2025.2)\n",
            "Requirement already satisfied: tzdata>=2022.7 in /usr/local/lib/python3.12/dist-packages (from pandas<3,>=1.4.0->streamlit) (2025.2)\n",
            "Requirement already satisfied: charset_normalizer<4,>=2 in /usr/local/lib/python3.12/dist-packages (from requests<3,>=2.27->streamlit) (3.4.3)\n",
            "Requirement already satisfied: idna<4,>=2.5 in /usr/local/lib/python3.12/dist-packages (from requests<3,>=2.27->streamlit) (3.10)\n",
            "Requirement already satisfied: urllib3<3,>=1.21.1 in /usr/local/lib/python3.12/dist-packages (from requests<3,>=2.27->streamlit) (2.5.0)\n",
            "Requirement already satisfied: certifi>=2017.4.17 in /usr/local/lib/python3.12/dist-packages (from requests<3,>=2.27->streamlit) (2025.8.3)\n",
            "Requirement already satisfied: smmap<6,>=3.0.1 in /usr/local/lib/python3.12/dist-packages (from gitdb<5,>=4.0.1->gitpython!=3.1.19,<4,>=3.0.7->streamlit) (5.0.2)\n",
            "Requirement already satisfied: MarkupSafe>=2.0 in /usr/local/lib/python3.12/dist-packages (from jinja2->altair!=5.4.0,!=5.4.1,<6,>=4.0->streamlit) (3.0.2)\n",
            "Requirement already satisfied: attrs>=22.2.0 in /usr/local/lib/python3.12/dist-packages (from jsonschema>=3.0->altair!=5.4.0,!=5.4.1,<6,>=4.0->streamlit) (25.3.0)\n",
            "Requirement already satisfied: jsonschema-specifications>=2023.03.6 in /usr/local/lib/python3.12/dist-packages (from jsonschema>=3.0->altair!=5.4.0,!=5.4.1,<6,>=4.0->streamlit) (2025.4.1)\n",
            "Requirement already satisfied: referencing>=0.28.4 in /usr/local/lib/python3.12/dist-packages (from jsonschema>=3.0->altair!=5.4.0,!=5.4.1,<6,>=4.0->streamlit) (0.36.2)\n",
            "Requirement already satisfied: rpds-py>=0.7.1 in /usr/local/lib/python3.12/dist-packages (from jsonschema>=3.0->altair!=5.4.0,!=5.4.1,<6,>=4.0->streamlit) (0.27.1)\n",
            "Requirement already satisfied: six>=1.5 in /usr/local/lib/python3.12/dist-packages (from python-dateutil>=2.8.2->pandas<3,>=1.4.0->streamlit) (1.17.0)\n",
            "Downloading pyngrok-7.3.0-py3-none-any.whl (25 kB)\n",
            "Installing collected packages: pyngrok\n",
            "Successfully installed pyngrok-7.3.0\n"
          ]
        }
      ]
    },
    {
      "cell_type": "code",
      "source": [
        "%%writefile app.py\n"
      ],
      "metadata": {
        "colab": {
          "base_uri": "https://localhost:8080/"
        },
        "id": "G6tCPgULJKAl",
        "outputId": "31be4c04-c9d5-450a-b4e2-d667d54000ff"
      },
      "execution_count": null,
      "outputs": [
        {
          "output_type": "stream",
          "name": "stdout",
          "text": [
            "Writing app.py\n"
          ]
        }
      ]
    },
    {
      "cell_type": "code",
      "source": [
        "!ngrok authtoken 32edhGuzTCCKRVdGEHpOBoeAJuo_2KvAxk8MHxfV2qkbZWuo1\n"
      ],
      "metadata": {
        "colab": {
          "base_uri": "https://localhost:8080/"
        },
        "id": "5FbXNDT5Kowk",
        "outputId": "41e88d37-bf0b-4c9e-df18-1148fd645ee9"
      },
      "execution_count": null,
      "outputs": [
        {
          "output_type": "stream",
          "name": "stdout",
          "text": [
            "Authtoken saved to configuration file: /root/.config/ngrok/ngrok.yml\n"
          ]
        }
      ]
    },
    {
      "cell_type": "code",
      "source": [
        "from pyngrok import ngrok\n",
        "\n",
        "get_ipython().system_raw('streamlit run app.py &')\n",
        "\n",
        "public_url = ngrok.connect(8501)\n",
        "public_url\n"
      ],
      "metadata": {
        "colab": {
          "base_uri": "https://localhost:8080/"
        },
        "id": "ssuW2s8HJboq",
        "outputId": "a3e53c7e-b1cd-4aa5-85f6-b2bde67e0120"
      },
      "execution_count": null,
      "outputs": [
        {
          "output_type": "execute_result",
          "data": {
            "text/plain": [
              "<NgrokTunnel: \"https://1c1eb6270b03.ngrok-free.app\" -> \"http://localhost:8501\">"
            ]
          },
          "metadata": {},
          "execution_count": 27
        }
      ]
    },
    {
      "cell_type": "code",
      "source": [
        "%%writefile app.py\n"
      ],
      "metadata": {
        "colab": {
          "base_uri": "https://localhost:8080/"
        },
        "id": "Z1yEnRAWNqVY",
        "outputId": "9e6af06f-a782-4e22-a177-c03f7ed89d53"
      },
      "execution_count": null,
      "outputs": [
        {
          "output_type": "stream",
          "name": "stdout",
          "text": [
            "Overwriting app.py\n"
          ]
        }
      ]
    },
    {
      "cell_type": "code",
      "source": [
        "%%writefile requirements.txt\n",
        "streamlit\n",
        "pandas\n",
        "scikit-learn\n",
        "matplotlib\n",
        "plotly\n"
      ],
      "metadata": {
        "colab": {
          "base_uri": "https://localhost:8080/"
        },
        "id": "Fxn7aqcbN8Hn",
        "outputId": "ba57afd7-d21c-40e2-dbc7-4f5e3ae837c5"
      },
      "execution_count": null,
      "outputs": [
        {
          "output_type": "stream",
          "name": "stdout",
          "text": [
            "Writing requirements.txt\n"
          ]
        }
      ]
    },
    {
      "cell_type": "code",
      "source": [
        "import streamlit as st\n",
        "import pandas as pd\n",
        "import numpy as np\n",
        "from sklearn.preprocessing import StandardScaler\n",
        "from sklearn.decomposition import PCA\n",
        "from sklearn.cluster import KMeans\n",
        "import plotly.express as px\n",
        "\n",
        "url = \"/content/sample_data/Projected annual temperature change (2045-2065 Celsius) - Data.csv\"\n",
        "df = pd.read_csv(url)\n",
        "\n",
        "df = df.replace(\"..\", np.nan)\n",
        "\n",
        "year_cols = [col for col in df.columns if col.isdigit()]\n",
        "df[year_cols] = df[year_cols].apply(pd.to_numeric, errors='coerce')\n",
        "\n",
        "df[\"feature_mean\"] = df[year_cols].mean(axis=1)\n",
        "\n",
        "df_clean = df[[\"Country name\", \"Series name\", \"feature_mean\"]]\n",
        "\n",
        "df_pivot = df_clean.pivot_table(\n",
        "    index=\"Country name\",\n",
        "    columns=\"Series name\",\n",
        "    values=\"feature_mean\"\n",
        ").reset_index()\n",
        "\n",
        "df_pivot_filled = df_pivot.fillna(df_pivot.mean(numeric_only=True))\n",
        "\n",
        "X = df_pivot_filled.drop(columns=[\"Country name\"])\n",
        "\n",
        "scaler = StandardScaler()\n",
        "X_scaled = scaler.fit_transform(X)\n",
        "\n",
        "kmeans = KMeans(n_clusters=4, random_state=42, n_init=10)\n",
        "df_pivot_filled[\"Cluster\"] = kmeans.fit_predict(X_scaled)\n",
        "\n",
        "pca = PCA(n_components=2)\n",
        "X_pca = pca.fit_transform(X_scaled)\n",
        "df_pivot_filled[\"PCA1\"] = X_pca[:,0]\n",
        "df_pivot_filled[\"PCA2\"] = X_pca[:,1]\n",
        "\n",
        "st.title(\"Country Clusters on Sustainable Energy & Efficiency\")\n",
        "\n",
        "st.write(\"### Sample of clustered data\")\n",
        "st.dataframe(df_pivot_filled[[\"Country name\", \"Cluster\"]].head(10))\n",
        "\n",
        "cluster_counts = df_pivot_filled[\"Cluster\"].value_counts().sort_index()\n",
        "st.write(\"### Cluster counts\")\n",
        "st.write(cluster_counts)\n",
        "\n",
        "st.write(\"### Sample countries per cluster\")\n",
        "for c in sorted(df_pivot_filled[\"Cluster\"].unique()):\n",
        "    st.write(f\"**Cluster {c}:**\", df_pivot_filled[df_pivot_filled[\"Cluster\"] == c][\"Country name\"].head(5).to_list())\n",
        "\n",
        "numeric_cols = df_pivot_filled.drop(columns=[\"Country name\", \"Cluster\", \"PCA1\", \"PCA2\"]).columns\n",
        "cluster_means = df_pivot_filled.groupby(\"Cluster\")[numeric_cols].mean().round(2)\n",
        "st.write(\"### Cluster averages (summary table)\")\n",
        "st.dataframe(cluster_means)\n",
        "\n",
        "fig = px.scatter(\n",
        "    df_pivot_filled,\n",
        "    x=\"PCA1\",\n",
        "    y=\"PCA2\",\n",
        "    color=df_pivot_filled[\"Cluster\"].astype(str),\n",
        "    hover_name=\"Country name\",\n",
        "    title=\"Country Clusters (Interactive PCA)\"\n",
        ")\n",
        "\n",
        "st.plotly_chart(fig, use_container_width=True)\n"
      ],
      "metadata": {
        "colab": {
          "base_uri": "https://localhost:8080/"
        },
        "id": "LJx0xNYyQWcr",
        "outputId": "fa8da472-27b8-4f69-9d87-e9f59ad9154d"
      },
      "execution_count": null,
      "outputs": [
        {
          "output_type": "stream",
          "name": "stderr",
          "text": [
            "2025-09-13 18:42:38.425 Thread 'MainThread': missing ScriptRunContext! This warning can be ignored when running in bare mode.\n",
            "2025-09-13 18:42:38.428 Thread 'MainThread': missing ScriptRunContext! This warning can be ignored when running in bare mode.\n",
            "2025-09-13 18:42:38.430 Thread 'MainThread': missing ScriptRunContext! This warning can be ignored when running in bare mode.\n",
            "2025-09-13 18:42:38.433 Thread 'MainThread': missing ScriptRunContext! This warning can be ignored when running in bare mode.\n",
            "2025-09-13 18:42:38.435 Thread 'MainThread': missing ScriptRunContext! This warning can be ignored when running in bare mode.\n",
            "2025-09-13 18:42:38.437 Thread 'MainThread': missing ScriptRunContext! This warning can be ignored when running in bare mode.\n",
            "2025-09-13 18:42:38.443 Thread 'MainThread': missing ScriptRunContext! This warning can be ignored when running in bare mode.\n",
            "2025-09-13 18:42:38.444 Thread 'MainThread': missing ScriptRunContext! This warning can be ignored when running in bare mode.\n",
            "2025-09-13 18:42:38.447 Thread 'MainThread': missing ScriptRunContext! This warning can be ignored when running in bare mode.\n",
            "2025-09-13 18:42:38.451 Thread 'MainThread': missing ScriptRunContext! This warning can be ignored when running in bare mode.\n",
            "2025-09-13 18:42:38.456 Thread 'MainThread': missing ScriptRunContext! This warning can be ignored when running in bare mode.\n",
            "2025-09-13 18:42:38.458 Thread 'MainThread': missing ScriptRunContext! This warning can be ignored when running in bare mode.\n",
            "2025-09-13 18:42:38.461 Thread 'MainThread': missing ScriptRunContext! This warning can be ignored when running in bare mode.\n",
            "2025-09-13 18:42:38.462 Thread 'MainThread': missing ScriptRunContext! This warning can be ignored when running in bare mode.\n",
            "2025-09-13 18:42:38.463 Thread 'MainThread': missing ScriptRunContext! This warning can be ignored when running in bare mode.\n",
            "2025-09-13 18:42:38.464 Thread 'MainThread': missing ScriptRunContext! This warning can be ignored when running in bare mode.\n",
            "2025-09-13 18:42:38.465 Thread 'MainThread': missing ScriptRunContext! This warning can be ignored when running in bare mode.\n",
            "2025-09-13 18:42:38.466 Thread 'MainThread': missing ScriptRunContext! This warning can be ignored when running in bare mode.\n",
            "2025-09-13 18:42:38.470 Thread 'MainThread': missing ScriptRunContext! This warning can be ignored when running in bare mode.\n",
            "2025-09-13 18:42:38.471 Thread 'MainThread': missing ScriptRunContext! This warning can be ignored when running in bare mode.\n",
            "2025-09-13 18:42:38.473 Thread 'MainThread': missing ScriptRunContext! This warning can be ignored when running in bare mode.\n",
            "2025-09-13 18:42:38.473 Thread 'MainThread': missing ScriptRunContext! This warning can be ignored when running in bare mode.\n",
            "2025-09-13 18:42:38.474 Thread 'MainThread': missing ScriptRunContext! This warning can be ignored when running in bare mode.\n",
            "2025-09-13 18:42:38.475 Thread 'MainThread': missing ScriptRunContext! This warning can be ignored when running in bare mode.\n",
            "2025-09-13 18:42:38.476 Thread 'MainThread': missing ScriptRunContext! This warning can be ignored when running in bare mode.\n",
            "2025-09-13 18:42:38.477 Thread 'MainThread': missing ScriptRunContext! This warning can be ignored when running in bare mode.\n",
            "2025-09-13 18:42:38.477 Thread 'MainThread': missing ScriptRunContext! This warning can be ignored when running in bare mode.\n",
            "2025-09-13 18:42:38.482 Thread 'MainThread': missing ScriptRunContext! This warning can be ignored when running in bare mode.\n",
            "2025-09-13 18:42:38.483 Thread 'MainThread': missing ScriptRunContext! This warning can be ignored when running in bare mode.\n",
            "2025-09-13 18:42:38.483 Thread 'MainThread': missing ScriptRunContext! This warning can be ignored when running in bare mode.\n",
            "2025-09-13 18:42:38.484 Thread 'MainThread': missing ScriptRunContext! This warning can be ignored when running in bare mode.\n",
            "2025-09-13 18:42:38.485 Thread 'MainThread': missing ScriptRunContext! This warning can be ignored when running in bare mode.\n",
            "2025-09-13 18:42:38.486 Thread 'MainThread': missing ScriptRunContext! This warning can be ignored when running in bare mode.\n",
            "2025-09-13 18:42:38.487 Thread 'MainThread': missing ScriptRunContext! This warning can be ignored when running in bare mode.\n",
            "2025-09-13 18:42:38.487 Thread 'MainThread': missing ScriptRunContext! This warning can be ignored when running in bare mode.\n",
            "2025-09-13 18:42:38.488 Thread 'MainThread': missing ScriptRunContext! This warning can be ignored when running in bare mode.\n",
            "2025-09-13 18:42:38.492 Thread 'MainThread': missing ScriptRunContext! This warning can be ignored when running in bare mode.\n",
            "2025-09-13 18:42:38.493 Thread 'MainThread': missing ScriptRunContext! This warning can be ignored when running in bare mode.\n",
            "2025-09-13 18:42:38.494 Thread 'MainThread': missing ScriptRunContext! This warning can be ignored when running in bare mode.\n",
            "2025-09-13 18:42:38.495 Thread 'MainThread': missing ScriptRunContext! This warning can be ignored when running in bare mode.\n",
            "2025-09-13 18:42:38.495 Thread 'MainThread': missing ScriptRunContext! This warning can be ignored when running in bare mode.\n",
            "2025-09-13 18:42:38.496 Thread 'MainThread': missing ScriptRunContext! This warning can be ignored when running in bare mode.\n",
            "2025-09-13 18:42:38.497 Thread 'MainThread': missing ScriptRunContext! This warning can be ignored when running in bare mode.\n",
            "2025-09-13 18:42:38.497 Thread 'MainThread': missing ScriptRunContext! This warning can be ignored when running in bare mode.\n",
            "2025-09-13 18:42:38.498 Thread 'MainThread': missing ScriptRunContext! This warning can be ignored when running in bare mode.\n",
            "2025-09-13 18:42:38.501 Thread 'MainThread': missing ScriptRunContext! This warning can be ignored when running in bare mode.\n",
            "2025-09-13 18:42:38.502 Thread 'MainThread': missing ScriptRunContext! This warning can be ignored when running in bare mode.\n",
            "2025-09-13 18:42:38.503 Thread 'MainThread': missing ScriptRunContext! This warning can be ignored when running in bare mode.\n",
            "2025-09-13 18:42:38.504 Thread 'MainThread': missing ScriptRunContext! This warning can be ignored when running in bare mode.\n",
            "2025-09-13 18:42:38.504 Thread 'MainThread': missing ScriptRunContext! This warning can be ignored when running in bare mode.\n",
            "2025-09-13 18:42:38.505 Thread 'MainThread': missing ScriptRunContext! This warning can be ignored when running in bare mode.\n",
            "2025-09-13 18:42:38.506 Thread 'MainThread': missing ScriptRunContext! This warning can be ignored when running in bare mode.\n",
            "2025-09-13 18:42:38.506 Thread 'MainThread': missing ScriptRunContext! This warning can be ignored when running in bare mode.\n",
            "2025-09-13 18:42:38.507 Thread 'MainThread': missing ScriptRunContext! This warning can be ignored when running in bare mode.\n",
            "2025-09-13 18:42:38.522 Thread 'MainThread': missing ScriptRunContext! This warning can be ignored when running in bare mode.\n",
            "2025-09-13 18:42:38.528 Thread 'MainThread': missing ScriptRunContext! This warning can be ignored when running in bare mode.\n",
            "2025-09-13 18:42:38.529 Thread 'MainThread': missing ScriptRunContext! This warning can be ignored when running in bare mode.\n",
            "2025-09-13 18:42:38.544 Thread 'MainThread': missing ScriptRunContext! This warning can be ignored when running in bare mode.\n",
            "2025-09-13 18:42:38.548 Thread 'MainThread': missing ScriptRunContext! This warning can be ignored when running in bare mode.\n",
            "2025-09-13 18:42:38.549 Thread 'MainThread': missing ScriptRunContext! This warning can be ignored when running in bare mode.\n",
            "2025-09-13 18:42:38.612 Thread 'MainThread': missing ScriptRunContext! This warning can be ignored when running in bare mode.\n",
            "2025-09-13 18:42:38.612 Thread 'MainThread': missing ScriptRunContext! This warning can be ignored when running in bare mode.\n",
            "2025-09-13 18:42:38.613 Thread 'MainThread': missing ScriptRunContext! This warning can be ignored when running in bare mode.\n",
            "2025-09-13 18:42:38.614 Thread 'MainThread': missing ScriptRunContext! This warning can be ignored when running in bare mode.\n",
            "2025-09-13 18:42:38.615 Thread 'MainThread': missing ScriptRunContext! This warning can be ignored when running in bare mode.\n"
          ]
        },
        {
          "output_type": "execute_result",
          "data": {
            "text/plain": [
              "DeltaGenerator()"
            ]
          },
          "metadata": {},
          "execution_count": 42
        }
      ]
    },
    {
      "cell_type": "code",
      "source": [
        "!cat app.py\n"
      ],
      "metadata": {
        "colab": {
          "base_uri": "https://localhost:8080/"
        },
        "id": "iPutyQR6QZ1o",
        "outputId": "5ea53c0b-bbca-45b7-c17b-6fbd3589170d"
      },
      "execution_count": null,
      "outputs": [
        {
          "output_type": "stream",
          "name": "stdout",
          "text": [
            "import streamlit as st\n",
            "import numpy as np\n",
            "import pandas as pd\n",
            "import matplotlib.pyplot as plt\n",
            "from sklearn.preprocessing import StandardScaler\n",
            "from sklearn.decomposition import PCA\n",
            "from sklearn.cluster import KMeans\n",
            "\n",
            "# Read dataset from GitHub\n",
            "url = \"/content/sample_data/Projected annual temperature change (2045-2065 Celsius) - Data.csv\"\n",
            "df = pd.read_csv(url)\n",
            "\n",
            "df = df.replace(\"..\", np.nan)\n",
            "\n",
            "year_cols = [col for col in df.columns if col.isdigit()]\n",
            "df[year_cols] = df[year_cols].apply(pd.to_numeric, errors='coerce')\n",
            "\n",
            "df[\"feature_mean\"] = df[year_cols].mean(axis=1)\n",
            "\n",
            "df_clean = df[[\"Country name\", \"Series name\", \"feature_mean\"]]\n",
            "\n",
            "print(df_clean.head())\n",
            "print(df_clean.shape)\n",
            "\n",
            "# Pivot table: rows = countries, columns = indicators (Series name)\n",
            "df_pivot = df_clean.pivot_table(\n",
            "    index=\"Country name\",\n",
            "    columns=\"Series name\",\n",
            "    values=\"feature_mean\"\n",
            ")\n",
            "\n",
            "# Reset index to make 'Country name' a column again\n",
            "df_pivot = df_pivot.reset_index()\n",
            "\n",
            "print(df_pivot.shape)\n",
            "print(df_pivot.head())\n",
            "\n",
            "df_pivot_filled = df_pivot.fillna(df_pivot.mean(numeric_only=True))\n",
            "\n",
            "print(df_pivot_filled.shape)\n",
            "print(df_pivot_filled.isna().sum().sum(), \"missing values remain\")\n",
            "\n",
            "from sklearn.cluster import KMeans\n",
            "from sklearn.preprocessing import StandardScaler\n",
            "\n",
            "X = df_pivot_filled.drop(columns=[\"Country name\"])\n",
            "\n",
            "scaler = StandardScaler()\n",
            "X_scaled = scaler.fit_transform(X)\n",
            "\n",
            "kmeans = KMeans(n_clusters=4, random_state=42, n_init=10)  \n",
            "df_pivot_filled[\"Cluster\"] = kmeans.fit_predict(X_scaled)\n",
            "\n",
            "print(df_pivot_filled[[\"Country name\", \"Cluster\"]].head(10))\n",
            "\n",
            "\n",
            "import matplotlib.pyplot as plt\n",
            "from sklearn.decomposition import PCA\n",
            "\n",
            "pca = PCA(n_components=2)\n",
            "X_pca = pca.fit_transform(X_scaled)\n",
            "\n",
            "plt.figure(figsize=(10,6))\n",
            "plt.scatter(X_pca[:,0], X_pca[:,1], c=df_pivot_filled[\"Cluster\"], cmap=\"viridis\", alpha=0.7)\n",
            "plt.colorbar(label=\"Cluster\")\n",
            "plt.xlabel(\"PCA 1\")\n",
            "plt.ylabel(\"PCA 2\")\n",
            "plt.title(\"Country Clusters on Sustainable Energy & Efficiency\")\n",
            "plt.show()\n",
            "\n",
            "cluster_counts = df_pivot_filled[\"Cluster\"].value_counts().sort_index()\n",
            "print(\"Cluster counts:\")\n",
            "print(cluster_counts)\n",
            "\n",
            "for c in sorted(df_pivot_filled[\"Cluster\"].unique()):\n",
            "    print(f\"\\nCluster {c} sample countries:\")\n",
            "    print(df_pivot_filled[df_pivot_filled[\"Cluster\"] == c][\"Country name\"].head(5).to_list())\n",
            "\n",
            "numeric_cols = df_pivot_filled.drop(columns=[\"Country name\", \"Cluster\"]).columns\n",
            "\n",
            "cluster_means = df_pivot_filled.groupby(\"Cluster\")[numeric_cols].mean().round(2)\n",
            "print(\"\\nCluster averages (summary table):\")\n",
            "print(cluster_means)\n",
            "\n",
            "import plotly.express as px\n",
            "\n",
            "fig = px.scatter(\n",
            "    x=X_pca[:,0],\n",
            "    y=X_pca[:,1],\n",
            "    color=df_pivot_filled[\"Cluster\"].astype(str),\n",
            "    hover_name=df_pivot_filled[\"Country name\"],\n",
            "    title=\"Country Clusters (Interactive PCA)\"\n",
            ")\n",
            "\n",
            "fig.show()\n",
            "\n",
            "# Streamlit UI\n",
            "st.title(\"Country Clusters on Sustainable Energy & Efficiency\")\n",
            "st.write(\"### Sample of clustered data\")\n",
            "st.dataframe(df[[\"Country name\", \"Cluster\"]].head(10))\n",
            "\n",
            "# Plot\n",
            "fig, ax = plt.subplots(figsize=(10,6))\n",
            "scatter = ax.scatter(X_pca[:,0], X_pca[:,1], c=df[\"Cluster\"], cmap=\"viridis\", alpha=0.7)\n",
            "plt.colorbar(scatter, label=\"Cluster\")\n",
            "ax.set_xlabel(\"PCA 1\")\n",
            "ax.set_ylabel(\"PCA 2\")\n",
            "ax.set_title(\"Country Clusters\")\n",
            "st.pyplot(fig)\n"
          ]
        }
      ]
    }
  ]
}